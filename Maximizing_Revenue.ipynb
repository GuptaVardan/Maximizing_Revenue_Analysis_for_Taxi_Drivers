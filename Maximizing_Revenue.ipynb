{
 "cells": [
  {
   "cell_type": "markdown",
   "metadata": {
    "id": "6gKEfqPw37P0"
   },
   "source": [
    "## Maximizing revenue for taxi cab drivers through payment type analysis\n",
    "\n",
    "## Problem statement\n",
    "\n",
    "In today's competitive world of taxi services, maximizing revenue is crucial for both long-term success and driver satisfaction.\n",
    "\n",
    "## Objective\n",
    "\n",
    "The main goal of this project is to analyze the impact of payment methods on taxi fares.\n",
    "\n",
    "## Research question\n",
    "\n",
    "Is there a significant difference in taxi fares based on the payment method used, and can this information be used to encourage payment methods that lead to higher revenue for drivers, while maintaining a positive experience for customers?"
   ]
  },
  {
   "cell_type": "markdown",
   "metadata": {
    "id": "UgNgA4jE5f_U"
   },
   "source": [
    "## Importing libraries\n",
    "- Pandas for handling structured data in DataFrame (tabular) format.\n",
    "- Numpy for numerical operations.\n",
    "- Matplotlib for plotting visualizations to analyze the data trends and distributions visually.\n",
    "- Seaborn for barplots and histograms.\n",
    "- scipy.stats contains probability distributions and is used here to perform hypothesis testing, probability calculations, and other statistical analyses required for the A/B testing in this project.\n",
    "- warnings module manages and controls warning messages that caution about the potential issues in the code but do not stop the program from running.\n",
    "- warnings.filterwarnings(\"ignore\") supresses all warning messages in the notebook for a clean and focused analysis.\n",
    "- traintestsplit: Splits the dataset into training and testing sets for model evaluation.\n",
    "- crossvalscore: Performs cross-validation to assess the model's performance on different subsets of the data.\n",
    "- LinearRegression: Fits a linear model to predict the target variable based on the features.\n",
    "- meansquarederror: Measures the average squared difference between predicted and actual values to evaluate model accuracy.\n",
    "- r2score: Indicates the proportion of variance in the target variable explained by the model, showing its goodness of fit."
   ]
  },
  {
   "cell_type": "code",
   "execution_count": 1,
   "metadata": {
    "id": "JDrNL1jQ5mf3"
   },
   "outputs": [],
   "source": [
    "import pandas as pd\n",
    "import numpy as np\n",
    "import matplotlib.pyplot as plt\n",
    "import seaborn as sns\n",
    "from scipy import stats\n",
    "import statsmodels.api as sm\n",
    "import warnings\n",
    "warnings.filterwarnings(\"ignore\")\n",
    "from sklearn.model_selection import train_test_split, cross_val_score\n",
    "from sklearn.linear_model import LinearRegression\n",
    "from sklearn.metrics import mean_squared_error, r2_score"
   ]
  },
  {
   "cell_type": "markdown",
   "metadata": {
    "id": "OqU9gegw55kc"
   },
   "source": [
    "## Loading the dataset"
   ]
  },
  {
   "cell_type": "code",
   "execution_count": 2,
   "metadata": {
    "id": "QDcHr1AszlZk"
   },
   "outputs": [],
   "source": [
    "# Reading the dataset\n",
    "taxi_data = pd.read_csv(\"data/taxi_data.csv\")"
   ]
  },
  {
   "cell_type": "code",
   "execution_count": 3,
   "metadata": {
    "colab": {
     "base_uri": "https://localhost:8080/",
     "height": 226
    },
    "id": "GjiZhckt6F7P",
    "outputId": "068b5592-9384-4f46-fdc4-26c7870e067c"
   },
   "outputs": [
    {
     "data": {
      "text/html": [
       "<div>\n",
       "<style scoped>\n",
       "    .dataframe tbody tr th:only-of-type {\n",
       "        vertical-align: middle;\n",
       "    }\n",
       "\n",
       "    .dataframe tbody tr th {\n",
       "        vertical-align: top;\n",
       "    }\n",
       "\n",
       "    .dataframe thead th {\n",
       "        text-align: right;\n",
       "    }\n",
       "</style>\n",
       "<table border=\"1\" class=\"dataframe\">\n",
       "  <thead>\n",
       "    <tr style=\"text-align: right;\">\n",
       "      <th></th>\n",
       "      <th>VendorID</th>\n",
       "      <th>tpep_pickup_datetime</th>\n",
       "      <th>tpep_dropoff_datetime</th>\n",
       "      <th>passenger_count</th>\n",
       "      <th>trip_distance</th>\n",
       "      <th>RatecodeID</th>\n",
       "      <th>store_and_fwd_flag</th>\n",
       "      <th>PULocationID</th>\n",
       "      <th>DOLocationID</th>\n",
       "      <th>payment_type</th>\n",
       "      <th>fare_amount</th>\n",
       "      <th>extra</th>\n",
       "      <th>mta_tax</th>\n",
       "      <th>tip_amount</th>\n",
       "      <th>tolls_amount</th>\n",
       "      <th>improvement_surcharge</th>\n",
       "      <th>total_amount</th>\n",
       "      <th>congestion_surcharge</th>\n",
       "    </tr>\n",
       "  </thead>\n",
       "  <tbody>\n",
       "    <tr>\n",
       "      <th>0</th>\n",
       "      <td>1.0</td>\n",
       "      <td>01/01/2020 12:28:15 AM</td>\n",
       "      <td>01/01/2020 12:33:03 AM</td>\n",
       "      <td>1.0</td>\n",
       "      <td>1.2</td>\n",
       "      <td>1.0</td>\n",
       "      <td>N</td>\n",
       "      <td>238</td>\n",
       "      <td>239</td>\n",
       "      <td>1.0</td>\n",
       "      <td>6.0</td>\n",
       "      <td>3.0</td>\n",
       "      <td>0.5</td>\n",
       "      <td>1.47</td>\n",
       "      <td>0.0</td>\n",
       "      <td>0.3</td>\n",
       "      <td>11.27</td>\n",
       "      <td>2.5</td>\n",
       "    </tr>\n",
       "    <tr>\n",
       "      <th>1</th>\n",
       "      <td>1.0</td>\n",
       "      <td>01/01/2020 12:35:39 AM</td>\n",
       "      <td>01/01/2020 12:43:04 AM</td>\n",
       "      <td>1.0</td>\n",
       "      <td>1.2</td>\n",
       "      <td>1.0</td>\n",
       "      <td>N</td>\n",
       "      <td>239</td>\n",
       "      <td>238</td>\n",
       "      <td>1.0</td>\n",
       "      <td>7.0</td>\n",
       "      <td>3.0</td>\n",
       "      <td>0.5</td>\n",
       "      <td>1.50</td>\n",
       "      <td>0.0</td>\n",
       "      <td>0.3</td>\n",
       "      <td>12.30</td>\n",
       "      <td>2.5</td>\n",
       "    </tr>\n",
       "    <tr>\n",
       "      <th>2</th>\n",
       "      <td>1.0</td>\n",
       "      <td>01/01/2020 12:47:41 AM</td>\n",
       "      <td>01/01/2020 12:53:52 AM</td>\n",
       "      <td>1.0</td>\n",
       "      <td>0.6</td>\n",
       "      <td>1.0</td>\n",
       "      <td>N</td>\n",
       "      <td>238</td>\n",
       "      <td>238</td>\n",
       "      <td>1.0</td>\n",
       "      <td>6.0</td>\n",
       "      <td>3.0</td>\n",
       "      <td>0.5</td>\n",
       "      <td>1.00</td>\n",
       "      <td>0.0</td>\n",
       "      <td>0.3</td>\n",
       "      <td>10.80</td>\n",
       "      <td>2.5</td>\n",
       "    </tr>\n",
       "    <tr>\n",
       "      <th>3</th>\n",
       "      <td>1.0</td>\n",
       "      <td>01/01/2020 12:55:23 AM</td>\n",
       "      <td>01/01/2020 01:00:14 AM</td>\n",
       "      <td>1.0</td>\n",
       "      <td>0.8</td>\n",
       "      <td>1.0</td>\n",
       "      <td>N</td>\n",
       "      <td>238</td>\n",
       "      <td>151</td>\n",
       "      <td>1.0</td>\n",
       "      <td>5.5</td>\n",
       "      <td>0.5</td>\n",
       "      <td>0.5</td>\n",
       "      <td>1.36</td>\n",
       "      <td>0.0</td>\n",
       "      <td>0.3</td>\n",
       "      <td>8.16</td>\n",
       "      <td>0.0</td>\n",
       "    </tr>\n",
       "    <tr>\n",
       "      <th>4</th>\n",
       "      <td>2.0</td>\n",
       "      <td>01/01/2020 12:01:58 AM</td>\n",
       "      <td>01/01/2020 12:04:16 AM</td>\n",
       "      <td>1.0</td>\n",
       "      <td>0.0</td>\n",
       "      <td>1.0</td>\n",
       "      <td>N</td>\n",
       "      <td>193</td>\n",
       "      <td>193</td>\n",
       "      <td>2.0</td>\n",
       "      <td>3.5</td>\n",
       "      <td>0.5</td>\n",
       "      <td>0.5</td>\n",
       "      <td>0.00</td>\n",
       "      <td>0.0</td>\n",
       "      <td>0.3</td>\n",
       "      <td>4.80</td>\n",
       "      <td>0.0</td>\n",
       "    </tr>\n",
       "  </tbody>\n",
       "</table>\n",
       "</div>"
      ],
      "text/plain": [
       "   VendorID    tpep_pickup_datetime   tpep_dropoff_datetime  passenger_count  \\\n",
       "0       1.0  01/01/2020 12:28:15 AM  01/01/2020 12:33:03 AM              1.0   \n",
       "1       1.0  01/01/2020 12:35:39 AM  01/01/2020 12:43:04 AM              1.0   \n",
       "2       1.0  01/01/2020 12:47:41 AM  01/01/2020 12:53:52 AM              1.0   \n",
       "3       1.0  01/01/2020 12:55:23 AM  01/01/2020 01:00:14 AM              1.0   \n",
       "4       2.0  01/01/2020 12:01:58 AM  01/01/2020 12:04:16 AM              1.0   \n",
       "\n",
       "   trip_distance  RatecodeID store_and_fwd_flag  PULocationID  DOLocationID  \\\n",
       "0            1.2         1.0                  N           238           239   \n",
       "1            1.2         1.0                  N           239           238   \n",
       "2            0.6         1.0                  N           238           238   \n",
       "3            0.8         1.0                  N           238           151   \n",
       "4            0.0         1.0                  N           193           193   \n",
       "\n",
       "   payment_type  fare_amount  extra  mta_tax  tip_amount  tolls_amount  \\\n",
       "0           1.0          6.0    3.0      0.5        1.47           0.0   \n",
       "1           1.0          7.0    3.0      0.5        1.50           0.0   \n",
       "2           1.0          6.0    3.0      0.5        1.00           0.0   \n",
       "3           1.0          5.5    0.5      0.5        1.36           0.0   \n",
       "4           2.0          3.5    0.5      0.5        0.00           0.0   \n",
       "\n",
       "   improvement_surcharge  total_amount  congestion_surcharge  \n",
       "0                    0.3         11.27                   2.5  \n",
       "1                    0.3         12.30                   2.5  \n",
       "2                    0.3         10.80                   2.5  \n",
       "3                    0.3          8.16                   0.0  \n",
       "4                    0.3          4.80                   0.0  "
      ]
     },
     "execution_count": 3,
     "metadata": {},
     "output_type": "execute_result"
    }
   ],
   "source": [
    "# Printing the first five values of all the features in the dataset\n",
    "taxi_data.head()"
   ]
  },
  {
   "cell_type": "code",
   "execution_count": 4,
   "metadata": {
    "colab": {
     "base_uri": "https://localhost:8080/",
     "height": 226
    },
    "id": "vMQLMkg4YLhl",
    "outputId": "a8374db5-151d-4e99-cc39-19095fdb681c"
   },
   "outputs": [
    {
     "data": {
      "text/html": [
       "<div>\n",
       "<style scoped>\n",
       "    .dataframe tbody tr th:only-of-type {\n",
       "        vertical-align: middle;\n",
       "    }\n",
       "\n",
       "    .dataframe tbody tr th {\n",
       "        vertical-align: top;\n",
       "    }\n",
       "\n",
       "    .dataframe thead th {\n",
       "        text-align: right;\n",
       "    }\n",
       "</style>\n",
       "<table border=\"1\" class=\"dataframe\">\n",
       "  <thead>\n",
       "    <tr style=\"text-align: right;\">\n",
       "      <th></th>\n",
       "      <th>VendorID</th>\n",
       "      <th>tpep_pickup_datetime</th>\n",
       "      <th>tpep_dropoff_datetime</th>\n",
       "      <th>passenger_count</th>\n",
       "      <th>trip_distance</th>\n",
       "      <th>RatecodeID</th>\n",
       "      <th>store_and_fwd_flag</th>\n",
       "      <th>PULocationID</th>\n",
       "      <th>DOLocationID</th>\n",
       "      <th>payment_type</th>\n",
       "      <th>fare_amount</th>\n",
       "      <th>extra</th>\n",
       "      <th>mta_tax</th>\n",
       "      <th>tip_amount</th>\n",
       "      <th>tolls_amount</th>\n",
       "      <th>improvement_surcharge</th>\n",
       "      <th>total_amount</th>\n",
       "      <th>congestion_surcharge</th>\n",
       "    </tr>\n",
       "  </thead>\n",
       "  <tbody>\n",
       "    <tr>\n",
       "      <th>6499995</th>\n",
       "      <td>2.0</td>\n",
       "      <td>02/01/2020 12:52:43 PM</td>\n",
       "      <td>02/01/2020 01:02:11 PM</td>\n",
       "      <td>1.0</td>\n",
       "      <td>1.21</td>\n",
       "      <td>1.0</td>\n",
       "      <td>N</td>\n",
       "      <td>238</td>\n",
       "      <td>239</td>\n",
       "      <td>1.0</td>\n",
       "      <td>7.5</td>\n",
       "      <td>0.0</td>\n",
       "      <td>0.5</td>\n",
       "      <td>2.16</td>\n",
       "      <td>0.00</td>\n",
       "      <td>0.3</td>\n",
       "      <td>14.91</td>\n",
       "      <td>2.5</td>\n",
       "    </tr>\n",
       "    <tr>\n",
       "      <th>6499996</th>\n",
       "      <td>2.0</td>\n",
       "      <td>02/01/2020 12:38:19 PM</td>\n",
       "      <td>02/01/2020 01:19:03 PM</td>\n",
       "      <td>1.0</td>\n",
       "      <td>17.77</td>\n",
       "      <td>2.0</td>\n",
       "      <td>N</td>\n",
       "      <td>132</td>\n",
       "      <td>100</td>\n",
       "      <td>1.0</td>\n",
       "      <td>52.0</td>\n",
       "      <td>0.0</td>\n",
       "      <td>0.5</td>\n",
       "      <td>12.28</td>\n",
       "      <td>6.12</td>\n",
       "      <td>0.3</td>\n",
       "      <td>73.70</td>\n",
       "      <td>2.5</td>\n",
       "    </tr>\n",
       "    <tr>\n",
       "      <th>6499997</th>\n",
       "      <td>2.0</td>\n",
       "      <td>02/01/2020 12:12:39 PM</td>\n",
       "      <td>02/01/2020 12:25:20 PM</td>\n",
       "      <td>1.0</td>\n",
       "      <td>3.57</td>\n",
       "      <td>1.0</td>\n",
       "      <td>N</td>\n",
       "      <td>13</td>\n",
       "      <td>33</td>\n",
       "      <td>1.0</td>\n",
       "      <td>13.5</td>\n",
       "      <td>0.0</td>\n",
       "      <td>0.5</td>\n",
       "      <td>3.36</td>\n",
       "      <td>0.00</td>\n",
       "      <td>0.3</td>\n",
       "      <td>20.16</td>\n",
       "      <td>2.5</td>\n",
       "    </tr>\n",
       "    <tr>\n",
       "      <th>6499998</th>\n",
       "      <td>2.0</td>\n",
       "      <td>02/01/2020 12:42:47 PM</td>\n",
       "      <td>02/01/2020 01:09:27 PM</td>\n",
       "      <td>1.0</td>\n",
       "      <td>5.85</td>\n",
       "      <td>1.0</td>\n",
       "      <td>N</td>\n",
       "      <td>209</td>\n",
       "      <td>230</td>\n",
       "      <td>2.0</td>\n",
       "      <td>23.5</td>\n",
       "      <td>0.0</td>\n",
       "      <td>0.5</td>\n",
       "      <td>0.00</td>\n",
       "      <td>0.00</td>\n",
       "      <td>0.3</td>\n",
       "      <td>26.80</td>\n",
       "      <td>2.5</td>\n",
       "    </tr>\n",
       "    <tr>\n",
       "      <th>6499999</th>\n",
       "      <td>2.0</td>\n",
       "      <td>02/01/2020 12:02:24 PM</td>\n",
       "      <td>02/01/2020 12:13:36 PM</td>\n",
       "      <td>4.0</td>\n",
       "      <td>1.89</td>\n",
       "      <td>1.0</td>\n",
       "      <td>N</td>\n",
       "      <td>142</td>\n",
       "      <td>236</td>\n",
       "      <td>1.0</td>\n",
       "      <td>9.5</td>\n",
       "      <td>0.0</td>\n",
       "      <td>0.5</td>\n",
       "      <td>2.56</td>\n",
       "      <td>0.00</td>\n",
       "      <td>0.3</td>\n",
       "      <td>15.36</td>\n",
       "      <td>2.5</td>\n",
       "    </tr>\n",
       "  </tbody>\n",
       "</table>\n",
       "</div>"
      ],
      "text/plain": [
       "         VendorID    tpep_pickup_datetime   tpep_dropoff_datetime  \\\n",
       "6499995       2.0  02/01/2020 12:52:43 PM  02/01/2020 01:02:11 PM   \n",
       "6499996       2.0  02/01/2020 12:38:19 PM  02/01/2020 01:19:03 PM   \n",
       "6499997       2.0  02/01/2020 12:12:39 PM  02/01/2020 12:25:20 PM   \n",
       "6499998       2.0  02/01/2020 12:42:47 PM  02/01/2020 01:09:27 PM   \n",
       "6499999       2.0  02/01/2020 12:02:24 PM  02/01/2020 12:13:36 PM   \n",
       "\n",
       "         passenger_count  trip_distance  RatecodeID store_and_fwd_flag  \\\n",
       "6499995              1.0           1.21         1.0                  N   \n",
       "6499996              1.0          17.77         2.0                  N   \n",
       "6499997              1.0           3.57         1.0                  N   \n",
       "6499998              1.0           5.85         1.0                  N   \n",
       "6499999              4.0           1.89         1.0                  N   \n",
       "\n",
       "         PULocationID  DOLocationID  payment_type  fare_amount  extra  \\\n",
       "6499995           238           239           1.0          7.5    0.0   \n",
       "6499996           132           100           1.0         52.0    0.0   \n",
       "6499997            13            33           1.0         13.5    0.0   \n",
       "6499998           209           230           2.0         23.5    0.0   \n",
       "6499999           142           236           1.0          9.5    0.0   \n",
       "\n",
       "         mta_tax  tip_amount  tolls_amount  improvement_surcharge  \\\n",
       "6499995      0.5        2.16          0.00                    0.3   \n",
       "6499996      0.5       12.28          6.12                    0.3   \n",
       "6499997      0.5        3.36          0.00                    0.3   \n",
       "6499998      0.5        0.00          0.00                    0.3   \n",
       "6499999      0.5        2.56          0.00                    0.3   \n",
       "\n",
       "         total_amount  congestion_surcharge  \n",
       "6499995         14.91                   2.5  \n",
       "6499996         73.70                   2.5  \n",
       "6499997         20.16                   2.5  \n",
       "6499998         26.80                   2.5  \n",
       "6499999         15.36                   2.5  "
      ]
     },
     "execution_count": 4,
     "metadata": {},
     "output_type": "execute_result"
    }
   ],
   "source": [
    "# Printing the last five values of all the features in the dataset\n",
    "taxi_data.tail()"
   ]
  },
  {
   "cell_type": "markdown",
   "metadata": {
    "id": "hU8pebWI-hpB"
   },
   "source": [
    "### Exploratory Data Analysis"
   ]
  },
  {
   "cell_type": "code",
   "execution_count": 5,
   "metadata": {
    "colab": {
     "base_uri": "https://localhost:8080/"
    },
    "id": "Imb0hPe986Hd",
    "outputId": "4994faf4-7889-49de-90a4-c182bc5f1b61"
   },
   "outputs": [
    {
     "data": {
      "text/plain": [
       "(6500000, 18)"
      ]
     },
     "execution_count": 5,
     "metadata": {},
     "output_type": "execute_result"
    }
   ],
   "source": [
    "# Checking the size of the dataset\n",
    "# shape returns the number of rows and columns of the dataset\n",
    "taxi_data.shape"
   ]
  },
  {
   "cell_type": "code",
   "execution_count": 6,
   "metadata": {
    "colab": {
     "base_uri": "https://localhost:8080/"
    },
    "id": "r4OjizHp-_px",
    "outputId": "f9646801-7a9f-4fa0-8dc6-4e53a23f9558"
   },
   "outputs": [
    {
     "name": "stdout",
     "output_type": "stream",
     "text": [
      "VendorID                 float64\n",
      "tpep_pickup_datetime      object\n",
      "tpep_dropoff_datetime     object\n",
      "passenger_count          float64\n",
      "trip_distance            float64\n",
      "RatecodeID               float64\n",
      "store_and_fwd_flag        object\n",
      "PULocationID               int64\n",
      "DOLocationID               int64\n",
      "payment_type             float64\n",
      "fare_amount              float64\n",
      "extra                    float64\n",
      "mta_tax                  float64\n",
      "tip_amount               float64\n",
      "tolls_amount             float64\n",
      "improvement_surcharge    float64\n",
      "total_amount             float64\n",
      "congestion_surcharge     float64\n",
      "dtype: object\n"
     ]
    }
   ],
   "source": [
    "# Checking the datatypes of the features present in the dataset\n",
    "print(taxi_data.dtypes)"
   ]
  },
  {
   "cell_type": "markdown",
   "metadata": {
    "id": "njZSjuPsY_pu"
   },
   "source": [
    "#### The first step in data analysis should always be to identify the features in the dataset that can be used to calculate and analyze the target variable more effectively."
   ]
  },
  {
   "cell_type": "code",
   "execution_count": 7,
   "metadata": {
    "id": "FVjZfOnwRgWE"
   },
   "outputs": [],
   "source": [
    "# Calculating the trip_duration from the pickup and dropoff datetime\n",
    "\n",
    "# Converting the pickup and dropoff time datatypes to datetime objects as they are present in some other format\n",
    "taxi_data['tpep_pickup_datetime'] = pd.to_datetime(taxi_data['tpep_pickup_datetime'])\n",
    "taxi_data['tpep_dropoff_datetime'] = pd.to_datetime(taxi_data['tpep_dropoff_datetime'])\n",
    "\n",
    "# Creating a feature called trip_duration and using it to store the trip_duration time\n",
    "# by subtracting dropoff time and pickup time\n",
    "taxi_data['trip_duration'] = taxi_data['tpep_dropoff_datetime'] - taxi_data['tpep_pickup_datetime']"
   ]
  },
  {
   "cell_type": "code",
   "execution_count": 8,
   "metadata": {
    "colab": {
     "base_uri": "https://localhost:8080/"
    },
    "id": "nc4YOtX9Rp7b",
    "outputId": "35e81aba-3fa0-47c8-8197-c4e6f83a0dab"
   },
   "outputs": [
    {
     "name": "stdout",
     "output_type": "stream",
     "text": [
      "VendorID                         float64\n",
      "tpep_pickup_datetime      datetime64[ns]\n",
      "tpep_dropoff_datetime     datetime64[ns]\n",
      "passenger_count                  float64\n",
      "trip_distance                    float64\n",
      "RatecodeID                       float64\n",
      "store_and_fwd_flag                object\n",
      "PULocationID                       int64\n",
      "DOLocationID                       int64\n",
      "payment_type                     float64\n",
      "fare_amount                      float64\n",
      "extra                            float64\n",
      "mta_tax                          float64\n",
      "tip_amount                       float64\n",
      "tolls_amount                     float64\n",
      "improvement_surcharge            float64\n",
      "total_amount                     float64\n",
      "congestion_surcharge             float64\n",
      "trip_duration            timedelta64[ns]\n",
      "dtype: object\n"
     ]
    }
   ],
   "source": [
    "print(taxi_data.dtypes)"
   ]
  },
  {
   "cell_type": "code",
   "execution_count": 9,
   "metadata": {
    "colab": {
     "base_uri": "https://localhost:8080/",
     "height": 313
    },
    "id": "N9Inghufb17S",
    "outputId": "cdb26d62-7b25-420b-c2f6-2afe7ebab48b"
   },
   "outputs": [
    {
     "data": {
      "text/html": [
       "<div>\n",
       "<style scoped>\n",
       "    .dataframe tbody tr th:only-of-type {\n",
       "        vertical-align: middle;\n",
       "    }\n",
       "\n",
       "    .dataframe tbody tr th {\n",
       "        vertical-align: top;\n",
       "    }\n",
       "\n",
       "    .dataframe thead th {\n",
       "        text-align: right;\n",
       "    }\n",
       "</style>\n",
       "<table border=\"1\" class=\"dataframe\">\n",
       "  <thead>\n",
       "    <tr style=\"text-align: right;\">\n",
       "      <th></th>\n",
       "      <th>VendorID</th>\n",
       "      <th>tpep_pickup_datetime</th>\n",
       "      <th>tpep_dropoff_datetime</th>\n",
       "      <th>passenger_count</th>\n",
       "      <th>trip_distance</th>\n",
       "      <th>RatecodeID</th>\n",
       "      <th>store_and_fwd_flag</th>\n",
       "      <th>PULocationID</th>\n",
       "      <th>DOLocationID</th>\n",
       "      <th>payment_type</th>\n",
       "      <th>fare_amount</th>\n",
       "      <th>extra</th>\n",
       "      <th>mta_tax</th>\n",
       "      <th>tip_amount</th>\n",
       "      <th>tolls_amount</th>\n",
       "      <th>improvement_surcharge</th>\n",
       "      <th>total_amount</th>\n",
       "      <th>congestion_surcharge</th>\n",
       "      <th>trip_duration</th>\n",
       "    </tr>\n",
       "  </thead>\n",
       "  <tbody>\n",
       "    <tr>\n",
       "      <th>0</th>\n",
       "      <td>1.0</td>\n",
       "      <td>2020-01-01 00:28:15</td>\n",
       "      <td>2020-01-01 00:33:03</td>\n",
       "      <td>1.0</td>\n",
       "      <td>1.2</td>\n",
       "      <td>1.0</td>\n",
       "      <td>N</td>\n",
       "      <td>238</td>\n",
       "      <td>239</td>\n",
       "      <td>1.0</td>\n",
       "      <td>6.0</td>\n",
       "      <td>3.0</td>\n",
       "      <td>0.5</td>\n",
       "      <td>1.47</td>\n",
       "      <td>0.0</td>\n",
       "      <td>0.3</td>\n",
       "      <td>11.27</td>\n",
       "      <td>2.5</td>\n",
       "      <td>0 days 00:04:48</td>\n",
       "    </tr>\n",
       "    <tr>\n",
       "      <th>1</th>\n",
       "      <td>1.0</td>\n",
       "      <td>2020-01-01 00:35:39</td>\n",
       "      <td>2020-01-01 00:43:04</td>\n",
       "      <td>1.0</td>\n",
       "      <td>1.2</td>\n",
       "      <td>1.0</td>\n",
       "      <td>N</td>\n",
       "      <td>239</td>\n",
       "      <td>238</td>\n",
       "      <td>1.0</td>\n",
       "      <td>7.0</td>\n",
       "      <td>3.0</td>\n",
       "      <td>0.5</td>\n",
       "      <td>1.50</td>\n",
       "      <td>0.0</td>\n",
       "      <td>0.3</td>\n",
       "      <td>12.30</td>\n",
       "      <td>2.5</td>\n",
       "      <td>0 days 00:07:25</td>\n",
       "    </tr>\n",
       "    <tr>\n",
       "      <th>2</th>\n",
       "      <td>1.0</td>\n",
       "      <td>2020-01-01 00:47:41</td>\n",
       "      <td>2020-01-01 00:53:52</td>\n",
       "      <td>1.0</td>\n",
       "      <td>0.6</td>\n",
       "      <td>1.0</td>\n",
       "      <td>N</td>\n",
       "      <td>238</td>\n",
       "      <td>238</td>\n",
       "      <td>1.0</td>\n",
       "      <td>6.0</td>\n",
       "      <td>3.0</td>\n",
       "      <td>0.5</td>\n",
       "      <td>1.00</td>\n",
       "      <td>0.0</td>\n",
       "      <td>0.3</td>\n",
       "      <td>10.80</td>\n",
       "      <td>2.5</td>\n",
       "      <td>0 days 00:06:11</td>\n",
       "    </tr>\n",
       "    <tr>\n",
       "      <th>3</th>\n",
       "      <td>1.0</td>\n",
       "      <td>2020-01-01 00:55:23</td>\n",
       "      <td>2020-01-01 01:00:14</td>\n",
       "      <td>1.0</td>\n",
       "      <td>0.8</td>\n",
       "      <td>1.0</td>\n",
       "      <td>N</td>\n",
       "      <td>238</td>\n",
       "      <td>151</td>\n",
       "      <td>1.0</td>\n",
       "      <td>5.5</td>\n",
       "      <td>0.5</td>\n",
       "      <td>0.5</td>\n",
       "      <td>1.36</td>\n",
       "      <td>0.0</td>\n",
       "      <td>0.3</td>\n",
       "      <td>8.16</td>\n",
       "      <td>0.0</td>\n",
       "      <td>0 days 00:04:51</td>\n",
       "    </tr>\n",
       "    <tr>\n",
       "      <th>4</th>\n",
       "      <td>2.0</td>\n",
       "      <td>2020-01-01 00:01:58</td>\n",
       "      <td>2020-01-01 00:04:16</td>\n",
       "      <td>1.0</td>\n",
       "      <td>0.0</td>\n",
       "      <td>1.0</td>\n",
       "      <td>N</td>\n",
       "      <td>193</td>\n",
       "      <td>193</td>\n",
       "      <td>2.0</td>\n",
       "      <td>3.5</td>\n",
       "      <td>0.5</td>\n",
       "      <td>0.5</td>\n",
       "      <td>0.00</td>\n",
       "      <td>0.0</td>\n",
       "      <td>0.3</td>\n",
       "      <td>4.80</td>\n",
       "      <td>0.0</td>\n",
       "      <td>0 days 00:02:18</td>\n",
       "    </tr>\n",
       "  </tbody>\n",
       "</table>\n",
       "</div>"
      ],
      "text/plain": [
       "   VendorID tpep_pickup_datetime tpep_dropoff_datetime  passenger_count  \\\n",
       "0       1.0  2020-01-01 00:28:15   2020-01-01 00:33:03              1.0   \n",
       "1       1.0  2020-01-01 00:35:39   2020-01-01 00:43:04              1.0   \n",
       "2       1.0  2020-01-01 00:47:41   2020-01-01 00:53:52              1.0   \n",
       "3       1.0  2020-01-01 00:55:23   2020-01-01 01:00:14              1.0   \n",
       "4       2.0  2020-01-01 00:01:58   2020-01-01 00:04:16              1.0   \n",
       "\n",
       "   trip_distance  RatecodeID store_and_fwd_flag  PULocationID  DOLocationID  \\\n",
       "0            1.2         1.0                  N           238           239   \n",
       "1            1.2         1.0                  N           239           238   \n",
       "2            0.6         1.0                  N           238           238   \n",
       "3            0.8         1.0                  N           238           151   \n",
       "4            0.0         1.0                  N           193           193   \n",
       "\n",
       "   payment_type  fare_amount  extra  mta_tax  tip_amount  tolls_amount  \\\n",
       "0           1.0          6.0    3.0      0.5        1.47           0.0   \n",
       "1           1.0          7.0    3.0      0.5        1.50           0.0   \n",
       "2           1.0          6.0    3.0      0.5        1.00           0.0   \n",
       "3           1.0          5.5    0.5      0.5        1.36           0.0   \n",
       "4           2.0          3.5    0.5      0.5        0.00           0.0   \n",
       "\n",
       "   improvement_surcharge  total_amount  congestion_surcharge   trip_duration  \n",
       "0                    0.3         11.27                   2.5 0 days 00:04:48  \n",
       "1                    0.3         12.30                   2.5 0 days 00:07:25  \n",
       "2                    0.3         10.80                   2.5 0 days 00:06:11  \n",
       "3                    0.3          8.16                   0.0 0 days 00:04:51  \n",
       "4                    0.3          4.80                   0.0 0 days 00:02:18  "
      ]
     },
     "execution_count": 9,
     "metadata": {},
     "output_type": "execute_result"
    }
   ],
   "source": [
    "# Printing the first five values in the dataset to check how it looks now\n",
    "taxi_data.head()"
   ]
  },
  {
   "cell_type": "markdown",
   "metadata": {
    "id": "BSt8ncd_0xwA"
   },
   "source": [
    "\n",
    "#### The newly created feature 'trip_duration' is in timedelta format.\n",
    "#### This feature displays time in the HH:MM:SS format. It is very difficult to analyze the exact trip_duration from such a format. Hence, it is necessary to convert this entire time into minutes. Other time formats like hours and seconds can also be used here, but the entire time trip_duration being converted to minutes makes it more comprehensible and easy to understand.\n",
    "#### In order to do so, it is first required to compute the total seconds and then convert the seconds to minutes."
   ]
  },
  {
   "cell_type": "code",
   "execution_count": 10,
   "metadata": {
    "id": "Tvst5Y5izapM"
   },
   "outputs": [],
   "source": [
    "# Converting time in the HH:MM:SS format to minutes\n",
    "taxi_data['trip_duration'] = taxi_data['trip_duration'].dt.total_seconds() / 60"
   ]
  },
  {
   "cell_type": "code",
   "execution_count": 11,
   "metadata": {
    "colab": {
     "base_uri": "https://localhost:8080/",
     "height": 226
    },
    "id": "uuOCWcF2a_7u",
    "outputId": "a8aea6ee-a0aa-4f26-f024-62d91b5c8f2b"
   },
   "outputs": [
    {
     "data": {
      "text/html": [
       "<div>\n",
       "<style scoped>\n",
       "    .dataframe tbody tr th:only-of-type {\n",
       "        vertical-align: middle;\n",
       "    }\n",
       "\n",
       "    .dataframe tbody tr th {\n",
       "        vertical-align: top;\n",
       "    }\n",
       "\n",
       "    .dataframe thead th {\n",
       "        text-align: right;\n",
       "    }\n",
       "</style>\n",
       "<table border=\"1\" class=\"dataframe\">\n",
       "  <thead>\n",
       "    <tr style=\"text-align: right;\">\n",
       "      <th></th>\n",
       "      <th>VendorID</th>\n",
       "      <th>tpep_pickup_datetime</th>\n",
       "      <th>tpep_dropoff_datetime</th>\n",
       "      <th>passenger_count</th>\n",
       "      <th>trip_distance</th>\n",
       "      <th>RatecodeID</th>\n",
       "      <th>store_and_fwd_flag</th>\n",
       "      <th>PULocationID</th>\n",
       "      <th>DOLocationID</th>\n",
       "      <th>payment_type</th>\n",
       "      <th>fare_amount</th>\n",
       "      <th>extra</th>\n",
       "      <th>mta_tax</th>\n",
       "      <th>tip_amount</th>\n",
       "      <th>tolls_amount</th>\n",
       "      <th>improvement_surcharge</th>\n",
       "      <th>total_amount</th>\n",
       "      <th>congestion_surcharge</th>\n",
       "      <th>trip_duration</th>\n",
       "    </tr>\n",
       "  </thead>\n",
       "  <tbody>\n",
       "    <tr>\n",
       "      <th>0</th>\n",
       "      <td>1.0</td>\n",
       "      <td>2020-01-01 00:28:15</td>\n",
       "      <td>2020-01-01 00:33:03</td>\n",
       "      <td>1.0</td>\n",
       "      <td>1.2</td>\n",
       "      <td>1.0</td>\n",
       "      <td>N</td>\n",
       "      <td>238</td>\n",
       "      <td>239</td>\n",
       "      <td>1.0</td>\n",
       "      <td>6.0</td>\n",
       "      <td>3.0</td>\n",
       "      <td>0.5</td>\n",
       "      <td>1.47</td>\n",
       "      <td>0.0</td>\n",
       "      <td>0.3</td>\n",
       "      <td>11.27</td>\n",
       "      <td>2.5</td>\n",
       "      <td>4.800000</td>\n",
       "    </tr>\n",
       "    <tr>\n",
       "      <th>1</th>\n",
       "      <td>1.0</td>\n",
       "      <td>2020-01-01 00:35:39</td>\n",
       "      <td>2020-01-01 00:43:04</td>\n",
       "      <td>1.0</td>\n",
       "      <td>1.2</td>\n",
       "      <td>1.0</td>\n",
       "      <td>N</td>\n",
       "      <td>239</td>\n",
       "      <td>238</td>\n",
       "      <td>1.0</td>\n",
       "      <td>7.0</td>\n",
       "      <td>3.0</td>\n",
       "      <td>0.5</td>\n",
       "      <td>1.50</td>\n",
       "      <td>0.0</td>\n",
       "      <td>0.3</td>\n",
       "      <td>12.30</td>\n",
       "      <td>2.5</td>\n",
       "      <td>7.416667</td>\n",
       "    </tr>\n",
       "    <tr>\n",
       "      <th>2</th>\n",
       "      <td>1.0</td>\n",
       "      <td>2020-01-01 00:47:41</td>\n",
       "      <td>2020-01-01 00:53:52</td>\n",
       "      <td>1.0</td>\n",
       "      <td>0.6</td>\n",
       "      <td>1.0</td>\n",
       "      <td>N</td>\n",
       "      <td>238</td>\n",
       "      <td>238</td>\n",
       "      <td>1.0</td>\n",
       "      <td>6.0</td>\n",
       "      <td>3.0</td>\n",
       "      <td>0.5</td>\n",
       "      <td>1.00</td>\n",
       "      <td>0.0</td>\n",
       "      <td>0.3</td>\n",
       "      <td>10.80</td>\n",
       "      <td>2.5</td>\n",
       "      <td>6.183333</td>\n",
       "    </tr>\n",
       "    <tr>\n",
       "      <th>3</th>\n",
       "      <td>1.0</td>\n",
       "      <td>2020-01-01 00:55:23</td>\n",
       "      <td>2020-01-01 01:00:14</td>\n",
       "      <td>1.0</td>\n",
       "      <td>0.8</td>\n",
       "      <td>1.0</td>\n",
       "      <td>N</td>\n",
       "      <td>238</td>\n",
       "      <td>151</td>\n",
       "      <td>1.0</td>\n",
       "      <td>5.5</td>\n",
       "      <td>0.5</td>\n",
       "      <td>0.5</td>\n",
       "      <td>1.36</td>\n",
       "      <td>0.0</td>\n",
       "      <td>0.3</td>\n",
       "      <td>8.16</td>\n",
       "      <td>0.0</td>\n",
       "      <td>4.850000</td>\n",
       "    </tr>\n",
       "    <tr>\n",
       "      <th>4</th>\n",
       "      <td>2.0</td>\n",
       "      <td>2020-01-01 00:01:58</td>\n",
       "      <td>2020-01-01 00:04:16</td>\n",
       "      <td>1.0</td>\n",
       "      <td>0.0</td>\n",
       "      <td>1.0</td>\n",
       "      <td>N</td>\n",
       "      <td>193</td>\n",
       "      <td>193</td>\n",
       "      <td>2.0</td>\n",
       "      <td>3.5</td>\n",
       "      <td>0.5</td>\n",
       "      <td>0.5</td>\n",
       "      <td>0.00</td>\n",
       "      <td>0.0</td>\n",
       "      <td>0.3</td>\n",
       "      <td>4.80</td>\n",
       "      <td>0.0</td>\n",
       "      <td>2.300000</td>\n",
       "    </tr>\n",
       "  </tbody>\n",
       "</table>\n",
       "</div>"
      ],
      "text/plain": [
       "   VendorID tpep_pickup_datetime tpep_dropoff_datetime  passenger_count  \\\n",
       "0       1.0  2020-01-01 00:28:15   2020-01-01 00:33:03              1.0   \n",
       "1       1.0  2020-01-01 00:35:39   2020-01-01 00:43:04              1.0   \n",
       "2       1.0  2020-01-01 00:47:41   2020-01-01 00:53:52              1.0   \n",
       "3       1.0  2020-01-01 00:55:23   2020-01-01 01:00:14              1.0   \n",
       "4       2.0  2020-01-01 00:01:58   2020-01-01 00:04:16              1.0   \n",
       "\n",
       "   trip_distance  RatecodeID store_and_fwd_flag  PULocationID  DOLocationID  \\\n",
       "0            1.2         1.0                  N           238           239   \n",
       "1            1.2         1.0                  N           239           238   \n",
       "2            0.6         1.0                  N           238           238   \n",
       "3            0.8         1.0                  N           238           151   \n",
       "4            0.0         1.0                  N           193           193   \n",
       "\n",
       "   payment_type  fare_amount  extra  mta_tax  tip_amount  tolls_amount  \\\n",
       "0           1.0          6.0    3.0      0.5        1.47           0.0   \n",
       "1           1.0          7.0    3.0      0.5        1.50           0.0   \n",
       "2           1.0          6.0    3.0      0.5        1.00           0.0   \n",
       "3           1.0          5.5    0.5      0.5        1.36           0.0   \n",
       "4           2.0          3.5    0.5      0.5        0.00           0.0   \n",
       "\n",
       "   improvement_surcharge  total_amount  congestion_surcharge  trip_duration  \n",
       "0                    0.3         11.27                   2.5       4.800000  \n",
       "1                    0.3         12.30                   2.5       7.416667  \n",
       "2                    0.3         10.80                   2.5       6.183333  \n",
       "3                    0.3          8.16                   0.0       4.850000  \n",
       "4                    0.3          4.80                   0.0       2.300000  "
      ]
     },
     "execution_count": 11,
     "metadata": {},
     "output_type": "execute_result"
    }
   ],
   "source": [
    "taxi_data.head()"
   ]
  },
  {
   "cell_type": "code",
   "execution_count": 12,
   "metadata": {
    "colab": {
     "base_uri": "https://localhost:8080/",
     "height": 680
    },
    "id": "6_qX0EYr2_7s",
    "outputId": "ba10ce11-dcfe-4953-8d13-e9ea230b947b"
   },
   "outputs": [
    {
     "data": {
      "text/plain": [
       "VendorID                        float64\n",
       "tpep_pickup_datetime     datetime64[ns]\n",
       "tpep_dropoff_datetime    datetime64[ns]\n",
       "passenger_count                 float64\n",
       "trip_distance                   float64\n",
       "RatecodeID                      float64\n",
       "store_and_fwd_flag               object\n",
       "PULocationID                      int64\n",
       "DOLocationID                      int64\n",
       "payment_type                    float64\n",
       "fare_amount                     float64\n",
       "extra                           float64\n",
       "mta_tax                         float64\n",
       "tip_amount                      float64\n",
       "tolls_amount                    float64\n",
       "improvement_surcharge           float64\n",
       "total_amount                    float64\n",
       "congestion_surcharge            float64\n",
       "trip_duration                   float64\n",
       "dtype: object"
      ]
     },
     "execution_count": 12,
     "metadata": {},
     "output_type": "execute_result"
    }
   ],
   "source": [
    "taxi_data.dtypes"
   ]
  },
  {
   "cell_type": "markdown",
   "metadata": {
    "id": "kYr6eSviES_W"
   },
   "source": [
    "## Data cleaning\n",
    "\n",
    "The quality of insights and predictions heavily depends on the quality of the data.\n",
    "\n",
    "It involves the following:\n",
    "1. Dropping Unncessary Columns\n",
    "2. Handling Missing Values\n",
    "3. Correcting Data Types\n",
    "4. Dealing with Duplicates\n",
    "5. Outlier Removal"
   ]
  },
  {
   "cell_type": "markdown",
   "metadata": {
    "id": "Vcdm2Qdx3ZER"
   },
   "source": [
    "## Dropping unnecessary columns\n",
    "- There are many columns in the dataset, but as per the problem statement, only few fields are required. Rest columns would serve no purpose to the study.\n",
    "- Therefore, the further process would involve extracting the necessary features from the dataset, and then later, dropping the unnecessary columns.\n",
    "- As the problem statement is revolving around payment type, fare amount, and other factors influencing the fare amount, filtering the data is necessary to have only passengercount, paymenttype, tripdistance, fareamount, and trip_duration as the features in the dataset."
   ]
  },
  {
   "cell_type": "code",
   "execution_count": 13,
   "metadata": {
    "id": "SURUtNWh3nQG"
   },
   "outputs": [],
   "source": [
    "# Extracting the required features from the dataset and storing them in the same dataset\n",
    "taxi_data = taxi_data[['passenger_count', 'payment_type', 'fare_amount', 'trip_distance', 'trip_duration']]\n",
    "\n",
    "\n",
    "# alternate option is to drop the unwanted columns directly from the dataset\n",
    "#taxi_data.drop(['VendorID', 'tpep_pickup_datetime', 'tpep_dropoff_datetime',\n",
    "#                'RatecodeID', 'store_and_fwd_flag', 'PULocationID',\n",
    "#                'DOLocationID', 'extra', 'mta_tax', 'tip_amount',\n",
    "#                'tolls_amount', 'improvement_surcharge', 'congestion_surcharge',\n",
    "#                'total_amount'], axis = 1, inplace = True)"
   ]
  },
  {
   "cell_type": "code",
   "execution_count": 14,
   "metadata": {
    "colab": {
     "base_uri": "https://localhost:8080/",
     "height": 206
    },
    "id": "UcnGhQrq4NVF",
    "outputId": "5d531635-bbb5-4eec-9673-6f2a74523d37"
   },
   "outputs": [
    {
     "data": {
      "text/html": [
       "<div>\n",
       "<style scoped>\n",
       "    .dataframe tbody tr th:only-of-type {\n",
       "        vertical-align: middle;\n",
       "    }\n",
       "\n",
       "    .dataframe tbody tr th {\n",
       "        vertical-align: top;\n",
       "    }\n",
       "\n",
       "    .dataframe thead th {\n",
       "        text-align: right;\n",
       "    }\n",
       "</style>\n",
       "<table border=\"1\" class=\"dataframe\">\n",
       "  <thead>\n",
       "    <tr style=\"text-align: right;\">\n",
       "      <th></th>\n",
       "      <th>passenger_count</th>\n",
       "      <th>payment_type</th>\n",
       "      <th>fare_amount</th>\n",
       "      <th>trip_distance</th>\n",
       "      <th>trip_duration</th>\n",
       "    </tr>\n",
       "  </thead>\n",
       "  <tbody>\n",
       "    <tr>\n",
       "      <th>0</th>\n",
       "      <td>1.0</td>\n",
       "      <td>1.0</td>\n",
       "      <td>6.0</td>\n",
       "      <td>1.2</td>\n",
       "      <td>4.800000</td>\n",
       "    </tr>\n",
       "    <tr>\n",
       "      <th>1</th>\n",
       "      <td>1.0</td>\n",
       "      <td>1.0</td>\n",
       "      <td>7.0</td>\n",
       "      <td>1.2</td>\n",
       "      <td>7.416667</td>\n",
       "    </tr>\n",
       "    <tr>\n",
       "      <th>2</th>\n",
       "      <td>1.0</td>\n",
       "      <td>1.0</td>\n",
       "      <td>6.0</td>\n",
       "      <td>0.6</td>\n",
       "      <td>6.183333</td>\n",
       "    </tr>\n",
       "    <tr>\n",
       "      <th>3</th>\n",
       "      <td>1.0</td>\n",
       "      <td>1.0</td>\n",
       "      <td>5.5</td>\n",
       "      <td>0.8</td>\n",
       "      <td>4.850000</td>\n",
       "    </tr>\n",
       "    <tr>\n",
       "      <th>4</th>\n",
       "      <td>1.0</td>\n",
       "      <td>2.0</td>\n",
       "      <td>3.5</td>\n",
       "      <td>0.0</td>\n",
       "      <td>2.300000</td>\n",
       "    </tr>\n",
       "  </tbody>\n",
       "</table>\n",
       "</div>"
      ],
      "text/plain": [
       "   passenger_count  payment_type  fare_amount  trip_distance  trip_duration\n",
       "0              1.0           1.0          6.0            1.2       4.800000\n",
       "1              1.0           1.0          7.0            1.2       7.416667\n",
       "2              1.0           1.0          6.0            0.6       6.183333\n",
       "3              1.0           1.0          5.5            0.8       4.850000\n",
       "4              1.0           2.0          3.5            0.0       2.300000"
      ]
     },
     "execution_count": 14,
     "metadata": {},
     "output_type": "execute_result"
    }
   ],
   "source": [
    "# checking the filtered data with relevant columns essential for the analysis\n",
    "# by printing the first 5 values in the dataset\n",
    "taxi_data.head()"
   ]
  },
  {
   "cell_type": "markdown",
   "metadata": {
    "id": "-Da1BG1kr1QU"
   },
   "source": [
    "## Handling missing values\n",
    "- The first step involves finding out the number of null values in the dataset.\n",
    "- Using the number of null values, their percentage in the dataset can be calculated.\n",
    "- If this percentage is not that significant, then those null values can be dropped from the dataset.\n",
    "- If the percentage is very high, then replacing those values with some other value like mean, median, mode, etc. is a solution."
   ]
  },
  {
   "cell_type": "code",
   "execution_count": 15,
   "metadata": {
    "colab": {
     "base_uri": "https://localhost:8080/",
     "height": 241
    },
    "id": "diQNZely4Okq",
    "outputId": "72884f6f-f2f3-4bfb-8983-7711671047c2"
   },
   "outputs": [
    {
     "data": {
      "text/plain": [
       "passenger_count    79229\n",
       "payment_type       79229\n",
       "fare_amount            0\n",
       "trip_distance          0\n",
       "trip_duration          0\n",
       "dtype: int64"
      ]
     },
     "execution_count": 15,
     "metadata": {},
     "output_type": "execute_result"
    }
   ],
   "source": [
    "# Finding the number of values that have null values in it\n",
    "taxi_data.isnull().sum()"
   ]
  },
  {
   "cell_type": "code",
   "execution_count": 16,
   "metadata": {
    "colab": {
     "base_uri": "https://localhost:8080/"
    },
    "id": "9fAZeaIh6vby",
    "outputId": "26671331-4952-4a85-8eab-fba9171462a5"
   },
   "outputs": [
    {
     "name": "stdout",
     "output_type": "stream",
     "text": [
      "Missing data comprises of 1.0067846153846154% of the data.\n"
     ]
    }
   ],
   "source": [
    "# Finding out the percentage of null values\n",
    "print(f\"Missing data comprises of {65441/len(taxi_data)*100}% of the data.\")"
   ]
  },
  {
   "cell_type": "code",
   "execution_count": 17,
   "metadata": {
    "id": "Ns4eMEG5sUTm"
   },
   "outputs": [],
   "source": [
    "# since the percentage of null values is not that significant\n",
    "# percentage = 1.0217%\n",
    "# Hence, drop those values\n",
    "taxi_data.dropna(inplace=True)"
   ]
  },
  {
   "cell_type": "code",
   "execution_count": 18,
   "metadata": {
    "colab": {
     "base_uri": "https://localhost:8080/",
     "height": 423
    },
    "id": "owrv85LIsiJT",
    "outputId": "dce2dde1-b644-4176-9b04-cb9fcdc38491"
   },
   "outputs": [
    {
     "data": {
      "text/html": [
       "<div>\n",
       "<style scoped>\n",
       "    .dataframe tbody tr th:only-of-type {\n",
       "        vertical-align: middle;\n",
       "    }\n",
       "\n",
       "    .dataframe tbody tr th {\n",
       "        vertical-align: top;\n",
       "    }\n",
       "\n",
       "    .dataframe thead th {\n",
       "        text-align: right;\n",
       "    }\n",
       "</style>\n",
       "<table border=\"1\" class=\"dataframe\">\n",
       "  <thead>\n",
       "    <tr style=\"text-align: right;\">\n",
       "      <th></th>\n",
       "      <th>passenger_count</th>\n",
       "      <th>payment_type</th>\n",
       "      <th>fare_amount</th>\n",
       "      <th>trip_distance</th>\n",
       "      <th>trip_duration</th>\n",
       "    </tr>\n",
       "  </thead>\n",
       "  <tbody>\n",
       "    <tr>\n",
       "      <th>0</th>\n",
       "      <td>1.0</td>\n",
       "      <td>1.0</td>\n",
       "      <td>6.0</td>\n",
       "      <td>1.20</td>\n",
       "      <td>4.800000</td>\n",
       "    </tr>\n",
       "    <tr>\n",
       "      <th>1</th>\n",
       "      <td>1.0</td>\n",
       "      <td>1.0</td>\n",
       "      <td>7.0</td>\n",
       "      <td>1.20</td>\n",
       "      <td>7.416667</td>\n",
       "    </tr>\n",
       "    <tr>\n",
       "      <th>2</th>\n",
       "      <td>1.0</td>\n",
       "      <td>1.0</td>\n",
       "      <td>6.0</td>\n",
       "      <td>0.60</td>\n",
       "      <td>6.183333</td>\n",
       "    </tr>\n",
       "    <tr>\n",
       "      <th>3</th>\n",
       "      <td>1.0</td>\n",
       "      <td>1.0</td>\n",
       "      <td>5.5</td>\n",
       "      <td>0.80</td>\n",
       "      <td>4.850000</td>\n",
       "    </tr>\n",
       "    <tr>\n",
       "      <th>4</th>\n",
       "      <td>1.0</td>\n",
       "      <td>2.0</td>\n",
       "      <td>3.5</td>\n",
       "      <td>0.00</td>\n",
       "      <td>2.300000</td>\n",
       "    </tr>\n",
       "    <tr>\n",
       "      <th>...</th>\n",
       "      <td>...</td>\n",
       "      <td>...</td>\n",
       "      <td>...</td>\n",
       "      <td>...</td>\n",
       "      <td>...</td>\n",
       "    </tr>\n",
       "    <tr>\n",
       "      <th>6499995</th>\n",
       "      <td>1.0</td>\n",
       "      <td>1.0</td>\n",
       "      <td>7.5</td>\n",
       "      <td>1.21</td>\n",
       "      <td>9.466667</td>\n",
       "    </tr>\n",
       "    <tr>\n",
       "      <th>6499996</th>\n",
       "      <td>1.0</td>\n",
       "      <td>1.0</td>\n",
       "      <td>52.0</td>\n",
       "      <td>17.77</td>\n",
       "      <td>40.733333</td>\n",
       "    </tr>\n",
       "    <tr>\n",
       "      <th>6499997</th>\n",
       "      <td>1.0</td>\n",
       "      <td>1.0</td>\n",
       "      <td>13.5</td>\n",
       "      <td>3.57</td>\n",
       "      <td>12.683333</td>\n",
       "    </tr>\n",
       "    <tr>\n",
       "      <th>6499998</th>\n",
       "      <td>1.0</td>\n",
       "      <td>2.0</td>\n",
       "      <td>23.5</td>\n",
       "      <td>5.85</td>\n",
       "      <td>26.666667</td>\n",
       "    </tr>\n",
       "    <tr>\n",
       "      <th>6499999</th>\n",
       "      <td>4.0</td>\n",
       "      <td>1.0</td>\n",
       "      <td>9.5</td>\n",
       "      <td>1.89</td>\n",
       "      <td>11.200000</td>\n",
       "    </tr>\n",
       "  </tbody>\n",
       "</table>\n",
       "<p>6420771 rows × 5 columns</p>\n",
       "</div>"
      ],
      "text/plain": [
       "         passenger_count  payment_type  fare_amount  trip_distance  \\\n",
       "0                    1.0           1.0          6.0           1.20   \n",
       "1                    1.0           1.0          7.0           1.20   \n",
       "2                    1.0           1.0          6.0           0.60   \n",
       "3                    1.0           1.0          5.5           0.80   \n",
       "4                    1.0           2.0          3.5           0.00   \n",
       "...                  ...           ...          ...            ...   \n",
       "6499995              1.0           1.0          7.5           1.21   \n",
       "6499996              1.0           1.0         52.0          17.77   \n",
       "6499997              1.0           1.0         13.5           3.57   \n",
       "6499998              1.0           2.0         23.5           5.85   \n",
       "6499999              4.0           1.0          9.5           1.89   \n",
       "\n",
       "         trip_duration  \n",
       "0             4.800000  \n",
       "1             7.416667  \n",
       "2             6.183333  \n",
       "3             4.850000  \n",
       "4             2.300000  \n",
       "...                ...  \n",
       "6499995       9.466667  \n",
       "6499996      40.733333  \n",
       "6499997      12.683333  \n",
       "6499998      26.666667  \n",
       "6499999      11.200000  \n",
       "\n",
       "[6420771 rows x 5 columns]"
      ]
     },
     "execution_count": 18,
     "metadata": {},
     "output_type": "execute_result"
    }
   ],
   "source": [
    "# Printing the data to check the number of rows\n",
    "# After handling the missing values\n",
    "taxi_data"
   ]
  },
  {
   "cell_type": "markdown",
   "metadata": {
    "id": "kXebDJNOtnL-"
   },
   "source": [
    "## Correcting data types\n",
    "- The columns 'passengercount' and 'paymenttype' are originally in float format.\n",
    "- They cannot be float as they represent discrete values and should be integers because 1.5 passengers does not exist in reality.\n",
    "- Hence, converting these columns to correct data types (from float to int) improves accuracy."
   ]
  },
  {
   "cell_type": "code",
   "execution_count": 19,
   "metadata": {
    "id": "jSlf1OToskm7"
   },
   "outputs": [],
   "source": [
    "# Changing the data types from float to int\n",
    "taxi_data['passenger_count'] = taxi_data['passenger_count'].astype('int64')\n",
    "taxi_data['payment_type'] = taxi_data['payment_type'].astype('int64')"
   ]
  },
  {
   "cell_type": "markdown",
   "metadata": {
    "id": "91LCHigftzxL"
   },
   "source": [
    "## Dealing with duplicates\n",
    "- Duplicate rows are always problematic in the analysis. They can skew the analysis by over-representing certain data points, leading to biased results. For example, identical trips recorded more than once can distort fare averages and payment method preferences.\n",
    "- Why is this happening? This is happening because in the original dataset where there were 18 features earlier, each data point considerably represented distinct values due to different combinations. But when certain features were selected, these combinations started to repeat.\n",
    "- Removing duplicate values ensures the analysis remains unbiased and does not give misleading insights. Hence, drop these values."
   ]
  },
  {
   "cell_type": "code",
   "execution_count": 20,
   "metadata": {
    "colab": {
     "base_uri": "https://localhost:8080/",
     "height": 423
    },
    "id": "dND2xcGSs3S5",
    "outputId": "d8ed4be5-2778-45b5-fbf5-6aba3280deb7"
   },
   "outputs": [
    {
     "data": {
      "text/html": [
       "<div>\n",
       "<style scoped>\n",
       "    .dataframe tbody tr th:only-of-type {\n",
       "        vertical-align: middle;\n",
       "    }\n",
       "\n",
       "    .dataframe tbody tr th {\n",
       "        vertical-align: top;\n",
       "    }\n",
       "\n",
       "    .dataframe thead th {\n",
       "        text-align: right;\n",
       "    }\n",
       "</style>\n",
       "<table border=\"1\" class=\"dataframe\">\n",
       "  <thead>\n",
       "    <tr style=\"text-align: right;\">\n",
       "      <th></th>\n",
       "      <th>passenger_count</th>\n",
       "      <th>payment_type</th>\n",
       "      <th>fare_amount</th>\n",
       "      <th>trip_distance</th>\n",
       "      <th>trip_duration</th>\n",
       "    </tr>\n",
       "  </thead>\n",
       "  <tbody>\n",
       "    <tr>\n",
       "      <th>2064</th>\n",
       "      <td>1</td>\n",
       "      <td>2</td>\n",
       "      <td>7.0</td>\n",
       "      <td>0.00</td>\n",
       "      <td>0.000000</td>\n",
       "    </tr>\n",
       "    <tr>\n",
       "      <th>2451</th>\n",
       "      <td>1</td>\n",
       "      <td>1</td>\n",
       "      <td>52.0</td>\n",
       "      <td>0.00</td>\n",
       "      <td>0.200000</td>\n",
       "    </tr>\n",
       "    <tr>\n",
       "      <th>2456</th>\n",
       "      <td>2</td>\n",
       "      <td>1</td>\n",
       "      <td>9.5</td>\n",
       "      <td>1.70</td>\n",
       "      <td>13.066667</td>\n",
       "    </tr>\n",
       "    <tr>\n",
       "      <th>2476</th>\n",
       "      <td>1</td>\n",
       "      <td>1</td>\n",
       "      <td>4.0</td>\n",
       "      <td>0.40</td>\n",
       "      <td>3.083333</td>\n",
       "    </tr>\n",
       "    <tr>\n",
       "      <th>3358</th>\n",
       "      <td>1</td>\n",
       "      <td>1</td>\n",
       "      <td>6.0</td>\n",
       "      <td>1.20</td>\n",
       "      <td>5.350000</td>\n",
       "    </tr>\n",
       "    <tr>\n",
       "      <th>...</th>\n",
       "      <td>...</td>\n",
       "      <td>...</td>\n",
       "      <td>...</td>\n",
       "      <td>...</td>\n",
       "      <td>...</td>\n",
       "    </tr>\n",
       "    <tr>\n",
       "      <th>6499992</th>\n",
       "      <td>1</td>\n",
       "      <td>1</td>\n",
       "      <td>6.5</td>\n",
       "      <td>1.18</td>\n",
       "      <td>7.050000</td>\n",
       "    </tr>\n",
       "    <tr>\n",
       "      <th>6499993</th>\n",
       "      <td>1</td>\n",
       "      <td>1</td>\n",
       "      <td>8.0</td>\n",
       "      <td>1.75</td>\n",
       "      <td>8.400000</td>\n",
       "    </tr>\n",
       "    <tr>\n",
       "      <th>6499994</th>\n",
       "      <td>1</td>\n",
       "      <td>1</td>\n",
       "      <td>8.0</td>\n",
       "      <td>1.56</td>\n",
       "      <td>8.400000</td>\n",
       "    </tr>\n",
       "    <tr>\n",
       "      <th>6499995</th>\n",
       "      <td>1</td>\n",
       "      <td>1</td>\n",
       "      <td>7.5</td>\n",
       "      <td>1.21</td>\n",
       "      <td>9.466667</td>\n",
       "    </tr>\n",
       "    <tr>\n",
       "      <th>6499997</th>\n",
       "      <td>1</td>\n",
       "      <td>1</td>\n",
       "      <td>13.5</td>\n",
       "      <td>3.57</td>\n",
       "      <td>12.683333</td>\n",
       "    </tr>\n",
       "  </tbody>\n",
       "</table>\n",
       "<p>3384312 rows × 5 columns</p>\n",
       "</div>"
      ],
      "text/plain": [
       "         passenger_count  payment_type  fare_amount  trip_distance  \\\n",
       "2064                   1             2          7.0           0.00   \n",
       "2451                   1             1         52.0           0.00   \n",
       "2456                   2             1          9.5           1.70   \n",
       "2476                   1             1          4.0           0.40   \n",
       "3358                   1             1          6.0           1.20   \n",
       "...                  ...           ...          ...            ...   \n",
       "6499992                1             1          6.5           1.18   \n",
       "6499993                1             1          8.0           1.75   \n",
       "6499994                1             1          8.0           1.56   \n",
       "6499995                1             1          7.5           1.21   \n",
       "6499997                1             1         13.5           3.57   \n",
       "\n",
       "         trip_duration  \n",
       "2064          0.000000  \n",
       "2451          0.200000  \n",
       "2456         13.066667  \n",
       "2476          3.083333  \n",
       "3358          5.350000  \n",
       "...                ...  \n",
       "6499992       7.050000  \n",
       "6499993       8.400000  \n",
       "6499994       8.400000  \n",
       "6499995       9.466667  \n",
       "6499997      12.683333  \n",
       "\n",
       "[3384312 rows x 5 columns]"
      ]
     },
     "execution_count": 20,
     "metadata": {},
     "output_type": "execute_result"
    }
   ],
   "source": [
    "# Checking for duplicate values\n",
    "taxi_data[taxi_data.duplicated()]"
   ]
  },
  {
   "cell_type": "code",
   "execution_count": 21,
   "metadata": {
    "id": "He7DjOW5t6xM"
   },
   "outputs": [],
   "source": [
    "# Dropping the duplicate values\n",
    "taxi_data.drop_duplicates(inplace = True)"
   ]
  },
  {
   "cell_type": "code",
   "execution_count": 22,
   "metadata": {
    "colab": {
     "base_uri": "https://localhost:8080/"
    },
    "id": "5YQ_vabFuy6e",
    "outputId": "59221bd7-0ac5-49ed-9884-27412b249ad2"
   },
   "outputs": [
    {
     "data": {
      "text/plain": [
       "(3036459, 5)"
      ]
     },
     "execution_count": 22,
     "metadata": {},
     "output_type": "execute_result"
    }
   ],
   "source": [
    "# After removing the missing values and duplicate rows, we are now left with\n",
    "# these many records\n",
    "taxi_data.shape"
   ]
  },
  {
   "cell_type": "markdown",
   "metadata": {
    "id": "xZGXuzlcvcsN"
   },
   "source": [
    "## Distribution of passenger count and payment type in analysis\n",
    "- After cleaning the data, it is always necessary to understand how different categories are distributed within the dataset.\n",
    "- Why this analysis? This helps in identifying patterns and making sense of the relationships between the different variables and features.\n",
    "- The columns 'passengercount' and 'paymenttype' are categorical variables. They represent distinct categories, with passengercount indicating the number of passengers and paymenttype representing how the fare was paid (e.g., 1 for credit card, 2 for cash etc.).\n",
    "- The distributions would allow to answer questions like:\n",
    "\n",
    "- What is the most common passenger count in a taxi?"
   ]
  },
  {
   "cell_type": "markdown",
   "metadata": {
    "id": "XIo71xuspQ-q"
   },
   "source": [
    "## Analysis of passenger count distribution"
   ]
  },
  {
   "cell_type": "code",
   "execution_count": 23,
   "metadata": {
    "colab": {
     "base_uri": "https://localhost:8080/",
     "height": 429
    },
    "id": "WBWHDewHu67w",
    "outputId": "98010ef6-29a8-4bd2-cc5f-a114811ed425"
   },
   "outputs": [
    {
     "data": {
      "text/plain": [
       "passenger_count\n",
       "1    0.581534\n",
       "2    0.190399\n",
       "3    0.066438\n",
       "5    0.063065\n",
       "6    0.039385\n",
       "4    0.036121\n",
       "0    0.023037\n",
       "7    0.000009\n",
       "9    0.000006\n",
       "8    0.000006\n",
       "Name: proportion, dtype: float64"
      ]
     },
     "execution_count": 23,
     "metadata": {},
     "output_type": "execute_result"
    }
   ],
   "source": [
    "# Value_counts gives you the frequency of the category\n",
    "# normalize parameter when passed to value_count return the % of the contribution\n",
    "taxi_data['passenger_count'].value_counts(normalize = True)"
   ]
  },
  {
   "cell_type": "markdown",
   "metadata": {
    "id": "y-2dhCyVwa59"
   },
   "source": [
    "## Interpretation of the passenger count distribution\n",
    "\n",
    "The output above indicates that:\n",
    "\n",
    "- 58% of the rides have 1 passenger.\n",
    "\n",
    "This means that most rides are single-passenger trips, which implies that optimizing services around single passengers could lead to efficiency gains for taxi drivers."
   ]
  },
  {
   "cell_type": "markdown",
   "metadata": {
    "id": "GxFFM9PGpY-g"
   },
   "source": [
    "## Analysis of payment type distribution"
   ]
  },
  {
   "cell_type": "code",
   "execution_count": 24,
   "metadata": {
    "colab": {
     "base_uri": "https://localhost:8080/",
     "height": 272
    },
    "id": "wnz7h_k_wFEq",
    "outputId": "8b6517cd-7572-47cc-c564-e11074205182"
   },
   "outputs": [
    {
     "data": {
      "text/plain": [
       "payment_type\n",
       "1    6.779756e-01\n",
       "2    3.078049e-01\n",
       "3    8.742091e-03\n",
       "4    5.477103e-03\n",
       "5    3.293310e-07\n",
       "Name: proportion, dtype: float64"
      ]
     },
     "execution_count": 24,
     "metadata": {},
     "output_type": "execute_result"
    }
   ],
   "source": [
    "# Repeat the same with the payment_type feature\n",
    "# payment type distribution\n",
    "taxi_data['payment_type'].value_counts(normalize = True)"
   ]
  },
  {
   "cell_type": "markdown",
   "metadata": {
    "id": "fhFXPqtixQpu"
   },
   "source": [
    "## Interpretation of the results for payment_type distribution\n",
    "Similar is the case with payment_type. The results above show that:\n",
    "\n",
    "- 67.8% of trips are paid using the payment type 1."
   ]
  },
  {
   "cell_type": "markdown",
   "metadata": {
    "id": "Tb56PQcKwdpT"
   },
   "source": [
    "## Insights from both the distributions\n",
    "Focusing solely on the payment types 'card' and 'cash' denoted by 1 and 2 in the dataset could be of better help as they comprise a larger proportion comparatively. To ensure that the analysis centers on these payment methods, it is necessary to filter the data accordingly, and therefore, excluding all other types.\n",
    "\n",
    "Moreover, examining the distribution of passenger count reveals that trips with more than 5 passengers are rare."
   ]
  },
  {
   "cell_type": "markdown",
   "metadata": {
    "id": "F71Yy11GyGw_"
   },
   "source": [
    "## Removing the values that we do not require through selection after interpreting the results from distribution"
   ]
  },
  {
   "cell_type": "code",
   "execution_count": 25,
   "metadata": {
    "id": "4aE3TCjJwXSb"
   },
   "outputs": [],
   "source": [
    "# filtering for passenger count from 1 to 5 (both inclusive)\n",
    "taxi_data = taxi_data[(taxi_data['passenger_count']>0)&(taxi_data['passenger_count']<6)]\n",
    "\n",
    "# filtering for payment type 1 and 2\n",
    "taxi_data = taxi_data[taxi_data['payment_type'] < 3]"
   ]
  },
  {
   "cell_type": "code",
   "execution_count": 26,
   "metadata": {
    "colab": {
     "base_uri": "https://localhost:8080/"
    },
    "id": "uFHVbyynyADe",
    "outputId": "cdce238b-4612-4d7a-a1f7-d9d0eb2828ab"
   },
   "outputs": [
    {
     "data": {
      "text/plain": [
       "(2806185, 5)"
      ]
     },
     "execution_count": 26,
     "metadata": {},
     "output_type": "execute_result"
    }
   ],
   "source": [
    "# checking for the size of the dataset after filtering\n",
    "taxi_data.shape"
   ]
  },
  {
   "cell_type": "code",
   "execution_count": 27,
   "metadata": {
    "id": "gkQ3a1YLyY2F"
   },
   "outputs": [],
   "source": [
    "# Replacing the payment type's encoded values - 1 and 2 with 'Card' and 'Cash' respectively\n",
    "taxi_data['payment_type'].replace([1,2],['Card','Cash'], inplace=True)"
   ]
  },
  {
   "cell_type": "code",
   "execution_count": 28,
   "metadata": {
    "colab": {
     "base_uri": "https://localhost:8080/",
     "height": 423
    },
    "id": "Z-LnMQ_uyiJ_",
    "outputId": "0a8a26f9-7a6a-4d74-8c40-fe63e0af269c"
   },
   "outputs": [
    {
     "data": {
      "text/html": [
       "<div>\n",
       "<style scoped>\n",
       "    .dataframe tbody tr th:only-of-type {\n",
       "        vertical-align: middle;\n",
       "    }\n",
       "\n",
       "    .dataframe tbody tr th {\n",
       "        vertical-align: top;\n",
       "    }\n",
       "\n",
       "    .dataframe thead th {\n",
       "        text-align: right;\n",
       "    }\n",
       "</style>\n",
       "<table border=\"1\" class=\"dataframe\">\n",
       "  <thead>\n",
       "    <tr style=\"text-align: right;\">\n",
       "      <th></th>\n",
       "      <th>passenger_count</th>\n",
       "      <th>payment_type</th>\n",
       "      <th>fare_amount</th>\n",
       "      <th>trip_distance</th>\n",
       "      <th>trip_duration</th>\n",
       "    </tr>\n",
       "  </thead>\n",
       "  <tbody>\n",
       "    <tr>\n",
       "      <th>0</th>\n",
       "      <td>1</td>\n",
       "      <td>Card</td>\n",
       "      <td>6.0</td>\n",
       "      <td>1.20</td>\n",
       "      <td>4.800000</td>\n",
       "    </tr>\n",
       "    <tr>\n",
       "      <th>1</th>\n",
       "      <td>1</td>\n",
       "      <td>Card</td>\n",
       "      <td>7.0</td>\n",
       "      <td>1.20</td>\n",
       "      <td>7.416667</td>\n",
       "    </tr>\n",
       "    <tr>\n",
       "      <th>2</th>\n",
       "      <td>1</td>\n",
       "      <td>Card</td>\n",
       "      <td>6.0</td>\n",
       "      <td>0.60</td>\n",
       "      <td>6.183333</td>\n",
       "    </tr>\n",
       "    <tr>\n",
       "      <th>3</th>\n",
       "      <td>1</td>\n",
       "      <td>Card</td>\n",
       "      <td>5.5</td>\n",
       "      <td>0.80</td>\n",
       "      <td>4.850000</td>\n",
       "    </tr>\n",
       "    <tr>\n",
       "      <th>4</th>\n",
       "      <td>1</td>\n",
       "      <td>Cash</td>\n",
       "      <td>3.5</td>\n",
       "      <td>0.00</td>\n",
       "      <td>2.300000</td>\n",
       "    </tr>\n",
       "    <tr>\n",
       "      <th>...</th>\n",
       "      <td>...</td>\n",
       "      <td>...</td>\n",
       "      <td>...</td>\n",
       "      <td>...</td>\n",
       "      <td>...</td>\n",
       "    </tr>\n",
       "    <tr>\n",
       "      <th>6499987</th>\n",
       "      <td>2</td>\n",
       "      <td>Card</td>\n",
       "      <td>13.5</td>\n",
       "      <td>3.01</td>\n",
       "      <td>16.166667</td>\n",
       "    </tr>\n",
       "    <tr>\n",
       "      <th>6499989</th>\n",
       "      <td>4</td>\n",
       "      <td>Cash</td>\n",
       "      <td>29.5</td>\n",
       "      <td>7.00</td>\n",
       "      <td>37.116667</td>\n",
       "    </tr>\n",
       "    <tr>\n",
       "      <th>6499996</th>\n",
       "      <td>1</td>\n",
       "      <td>Card</td>\n",
       "      <td>52.0</td>\n",
       "      <td>17.77</td>\n",
       "      <td>40.733333</td>\n",
       "    </tr>\n",
       "    <tr>\n",
       "      <th>6499998</th>\n",
       "      <td>1</td>\n",
       "      <td>Cash</td>\n",
       "      <td>23.5</td>\n",
       "      <td>5.85</td>\n",
       "      <td>26.666667</td>\n",
       "    </tr>\n",
       "    <tr>\n",
       "      <th>6499999</th>\n",
       "      <td>4</td>\n",
       "      <td>Card</td>\n",
       "      <td>9.5</td>\n",
       "      <td>1.89</td>\n",
       "      <td>11.200000</td>\n",
       "    </tr>\n",
       "  </tbody>\n",
       "</table>\n",
       "<p>2806185 rows × 5 columns</p>\n",
       "</div>"
      ],
      "text/plain": [
       "         passenger_count payment_type  fare_amount  trip_distance  \\\n",
       "0                      1         Card          6.0           1.20   \n",
       "1                      1         Card          7.0           1.20   \n",
       "2                      1         Card          6.0           0.60   \n",
       "3                      1         Card          5.5           0.80   \n",
       "4                      1         Cash          3.5           0.00   \n",
       "...                  ...          ...          ...            ...   \n",
       "6499987                2         Card         13.5           3.01   \n",
       "6499989                4         Cash         29.5           7.00   \n",
       "6499996                1         Card         52.0          17.77   \n",
       "6499998                1         Cash         23.5           5.85   \n",
       "6499999                4         Card          9.5           1.89   \n",
       "\n",
       "         trip_duration  \n",
       "0             4.800000  \n",
       "1             7.416667  \n",
       "2             6.183333  \n",
       "3             4.850000  \n",
       "4             2.300000  \n",
       "...                ...  \n",
       "6499987      16.166667  \n",
       "6499989      37.116667  \n",
       "6499996      40.733333  \n",
       "6499998      26.666667  \n",
       "6499999      11.200000  \n",
       "\n",
       "[2806185 rows x 5 columns]"
      ]
     },
     "execution_count": 28,
     "metadata": {},
     "output_type": "execute_result"
    }
   ],
   "source": [
    "# checking for the changes\n",
    "taxi_data"
   ]
  },
  {
   "cell_type": "markdown",
   "metadata": {
    "id": "cowNlsZivHNZ"
   },
   "source": [
    "## Descriptive statistics of the data\n",
    "Descriptive statistics provides a summary of the central tendency, dispersion, and shape of the distribution of each feature."
   ]
  },
  {
   "cell_type": "code",
   "execution_count": 29,
   "metadata": {
    "colab": {
     "base_uri": "https://localhost:8080/",
     "height": 300
    },
    "id": "R5RP0yRIyn62",
    "outputId": "4ed1d9d3-d6bc-4e43-bce2-ea5af4dd0982"
   },
   "outputs": [
    {
     "data": {
      "text/html": [
       "<div>\n",
       "<style scoped>\n",
       "    .dataframe tbody tr th:only-of-type {\n",
       "        vertical-align: middle;\n",
       "    }\n",
       "\n",
       "    .dataframe tbody tr th {\n",
       "        vertical-align: top;\n",
       "    }\n",
       "\n",
       "    .dataframe thead th {\n",
       "        text-align: right;\n",
       "    }\n",
       "</style>\n",
       "<table border=\"1\" class=\"dataframe\">\n",
       "  <thead>\n",
       "    <tr style=\"text-align: right;\">\n",
       "      <th></th>\n",
       "      <th>passenger_count</th>\n",
       "      <th>fare_amount</th>\n",
       "      <th>trip_distance</th>\n",
       "      <th>trip_duration</th>\n",
       "    </tr>\n",
       "  </thead>\n",
       "  <tbody>\n",
       "    <tr>\n",
       "      <th>count</th>\n",
       "      <td>2.806185e+06</td>\n",
       "      <td>2.806185e+06</td>\n",
       "      <td>2.806185e+06</td>\n",
       "      <td>2.806185e+06</td>\n",
       "    </tr>\n",
       "    <tr>\n",
       "      <th>mean</th>\n",
       "      <td>1.734508e+00</td>\n",
       "      <td>1.781410e+01</td>\n",
       "      <td>4.542451e+00</td>\n",
       "      <td>2.418423e+01</td>\n",
       "    </tr>\n",
       "    <tr>\n",
       "      <th>std</th>\n",
       "      <td>1.177486e+00</td>\n",
       "      <td>1.506292e+01</td>\n",
       "      <td>4.893464e+00</td>\n",
       "      <td>9.291006e+01</td>\n",
       "    </tr>\n",
       "    <tr>\n",
       "      <th>min</th>\n",
       "      <td>1.000000e+00</td>\n",
       "      <td>-5.000000e+02</td>\n",
       "      <td>-2.218000e+01</td>\n",
       "      <td>-2.770367e+03</td>\n",
       "    </tr>\n",
       "    <tr>\n",
       "      <th>25%</th>\n",
       "      <td>1.000000e+00</td>\n",
       "      <td>9.000000e+00</td>\n",
       "      <td>1.500000e+00</td>\n",
       "      <td>9.883333e+00</td>\n",
       "    </tr>\n",
       "    <tr>\n",
       "      <th>50%</th>\n",
       "      <td>1.000000e+00</td>\n",
       "      <td>1.300000e+01</td>\n",
       "      <td>2.740000e+00</td>\n",
       "      <td>1.573333e+01</td>\n",
       "    </tr>\n",
       "    <tr>\n",
       "      <th>75%</th>\n",
       "      <td>2.000000e+00</td>\n",
       "      <td>2.100000e+01</td>\n",
       "      <td>5.480000e+00</td>\n",
       "      <td>2.335000e+01</td>\n",
       "    </tr>\n",
       "    <tr>\n",
       "      <th>max</th>\n",
       "      <td>5.000000e+00</td>\n",
       "      <td>4.265000e+03</td>\n",
       "      <td>2.628800e+02</td>\n",
       "      <td>8.525117e+03</td>\n",
       "    </tr>\n",
       "  </tbody>\n",
       "</table>\n",
       "</div>"
      ],
      "text/plain": [
       "       passenger_count   fare_amount  trip_distance  trip_duration\n",
       "count     2.806185e+06  2.806185e+06   2.806185e+06   2.806185e+06\n",
       "mean      1.734508e+00  1.781410e+01   4.542451e+00   2.418423e+01\n",
       "std       1.177486e+00  1.506292e+01   4.893464e+00   9.291006e+01\n",
       "min       1.000000e+00 -5.000000e+02  -2.218000e+01  -2.770367e+03\n",
       "25%       1.000000e+00  9.000000e+00   1.500000e+00   9.883333e+00\n",
       "50%       1.000000e+00  1.300000e+01   2.740000e+00   1.573333e+01\n",
       "75%       2.000000e+00  2.100000e+01   5.480000e+00   2.335000e+01\n",
       "max       5.000000e+00  4.265000e+03   2.628800e+02   8.525117e+03"
      ]
     },
     "execution_count": 29,
     "metadata": {},
     "output_type": "execute_result"
    }
   ],
   "source": [
    "# descriptive statistics of the data\n",
    "taxi_data.describe()"
   ]
  },
  {
   "cell_type": "markdown",
   "metadata": {
    "id": "unuWUuGTzhs9"
   },
   "source": [
    "## Interpretation of descriptive statistics of the data\n",
    "- 4 numerical features namely 'passengercount', 'fareamount', 'tripdistance', and 'trip_duration' are displayed. The 5th feature 'paymenttype' is not displayed in descriptive statistics because it is a categorical data.\n",
    "- The minimum value of fareamount, tripdistance, and trip_duration is negative which is not possible. It means that there are wrong and unrealistic values in the dataset and these values have to be removed as they cannot be used for further analysis. Only those values which are greater than zero need to be considered.\n",
    "- Negative values in these columns are likely a result of errors during data collection. The presence of extreme values in the dataset, such as negative fare amounts, trip distances, and excessively long trip_durations, highlights the need for further data cleaning.\n",
    "\n",
    "### Interpretation of Outliers:\n",
    "\n",
    "- Looking at the 25th, 50th, 75th, and 100th (max) percentile, it can be said that there is a possibility of outliers (particularly high values) in the dataset."
   ]
  },
  {
   "cell_type": "code",
   "execution_count": 30,
   "metadata": {
    "id": "pAJ1f-HXys8A"
   },
   "outputs": [],
   "source": [
    "# Filtering the records for only positive values\n",
    "taxi_data = taxi_data[taxi_data['fare_amount']>0]\n",
    "taxi_data = taxi_data[taxi_data['trip_distance']>0]\n",
    "taxi_data = taxi_data[taxi_data['trip_duration']>0]"
   ]
  },
  {
   "cell_type": "code",
   "execution_count": 31,
   "metadata": {
    "colab": {
     "base_uri": "https://localhost:8080/",
     "height": 564
    },
    "id": "4LuLiG8c09ro",
    "outputId": "db0150cd-e2ba-447b-f256-f2097224768b"
   },
   "outputs": [
    {
     "data": {
      "image/png": "[encoded data removed]",
      "text/plain": [
       "<Figure size 1200x600 with 2 Axes>"
      ]
     },
     "metadata": {},
     "output_type": "display_data"
    }
   ],
   "source": [
    "# Checking for outliers in fare_amount\n",
    "plt.figure(figsize=(12,6))\n",
    "\n",
    "# Plotting a histogram\n",
    "plt.subplot(1,2,1)\n",
    "plt.hist(taxi_data['fare_amount'], color='#FA643F')\n",
    "plt.title(\"Histogram of Fare Amount\")\n",
    "plt.xlabel(\"payment_type\")\n",
    "plt.ylabel(\"fare_amount\")\n",
    "\n",
    "# Plotting a Boxplot\n",
    "plt.subplot(1,2,2)\n",
    "plt.boxplot(taxi_data['fare_amount'])\n",
    "plt.title(\"Boxplot of Fare Amount\")\n",
    "plt.xlabel(\"payment_type\")\n",
    "plt.ylabel(\"fare_amount\")\n",
    "\n",
    "plt.show()"
   ]
  },
  {
   "cell_type": "markdown",
   "metadata": {
    "id": "7BaaHvKQ9VLe"
   },
   "source": [
    "## Interpretation of histogram & boxplot\n",
    "\n",
    "By visualizing the distribution of fare amounts, it is targeted to identify trends and spot any anomalies or outliers.\n",
    "\n",
    "- There are a lot of outliers in the data spanning up to the value of 4000."
   ]
  },
  {
   "cell_type": "code",
   "execution_count": 32,
   "metadata": {
    "id": "8Tqb0qV91PvQ"
   },
   "outputs": [],
   "source": [
    "# Removing outliers using interquartile range for the numerical variables\n",
    "\n",
    "# iterating over the columns\n",
    "for col in ['fare_amount', 'trip_distance', 'trip_duration']:\n",
    "  Q1 = taxi_data[col].quantile(0.25) # first quartile\n",
    "  Q3 = taxi_data[col].quantile(0.75) # third quartile\n",
    "  IQR = Q3 - Q1 # interquartile range\n",
    "\n",
    "  lower_bound = Q1 - 1.5 * IQR\n",
    "  upper_bound = Q3 + 1.5 * IQR\n",
    "\n",
    "  # filtering out the outliers\n",
    "  taxi_data = taxi_data[(taxi_data[col] >= lower_bound) & (taxi_data[col] <= upper_bound)]"
   ]
  },
  {
   "cell_type": "code",
   "execution_count": 33,
   "metadata": {
    "colab": {
     "base_uri": "https://localhost:8080/",
     "height": 423
    },
    "id": "bhsylqC1-qmG",
    "outputId": "8e69bcd3-1bae-47bd-d197-c0b55235a05a"
   },
   "outputs": [
    {
     "data": {
      "text/html": [
       "<div>\n",
       "<style scoped>\n",
       "    .dataframe tbody tr th:only-of-type {\n",
       "        vertical-align: middle;\n",
       "    }\n",
       "\n",
       "    .dataframe tbody tr th {\n",
       "        vertical-align: top;\n",
       "    }\n",
       "\n",
       "    .dataframe thead th {\n",
       "        text-align: right;\n",
       "    }\n",
       "</style>\n",
       "<table border=\"1\" class=\"dataframe\">\n",
       "  <thead>\n",
       "    <tr style=\"text-align: right;\">\n",
       "      <th></th>\n",
       "      <th>passenger_count</th>\n",
       "      <th>payment_type</th>\n",
       "      <th>fare_amount</th>\n",
       "      <th>trip_distance</th>\n",
       "      <th>trip_duration</th>\n",
       "    </tr>\n",
       "  </thead>\n",
       "  <tbody>\n",
       "    <tr>\n",
       "      <th>0</th>\n",
       "      <td>1</td>\n",
       "      <td>Card</td>\n",
       "      <td>6.0</td>\n",
       "      <td>1.20</td>\n",
       "      <td>4.800000</td>\n",
       "    </tr>\n",
       "    <tr>\n",
       "      <th>1</th>\n",
       "      <td>1</td>\n",
       "      <td>Card</td>\n",
       "      <td>7.0</td>\n",
       "      <td>1.20</td>\n",
       "      <td>7.416667</td>\n",
       "    </tr>\n",
       "    <tr>\n",
       "      <th>2</th>\n",
       "      <td>1</td>\n",
       "      <td>Card</td>\n",
       "      <td>6.0</td>\n",
       "      <td>0.60</td>\n",
       "      <td>6.183333</td>\n",
       "    </tr>\n",
       "    <tr>\n",
       "      <th>3</th>\n",
       "      <td>1</td>\n",
       "      <td>Card</td>\n",
       "      <td>5.5</td>\n",
       "      <td>0.80</td>\n",
       "      <td>4.850000</td>\n",
       "    </tr>\n",
       "    <tr>\n",
       "      <th>5</th>\n",
       "      <td>1</td>\n",
       "      <td>Cash</td>\n",
       "      <td>2.5</td>\n",
       "      <td>0.03</td>\n",
       "      <td>0.883333</td>\n",
       "    </tr>\n",
       "    <tr>\n",
       "      <th>...</th>\n",
       "      <td>...</td>\n",
       "      <td>...</td>\n",
       "      <td>...</td>\n",
       "      <td>...</td>\n",
       "      <td>...</td>\n",
       "    </tr>\n",
       "    <tr>\n",
       "      <th>6499980</th>\n",
       "      <td>1</td>\n",
       "      <td>Card</td>\n",
       "      <td>8.0</td>\n",
       "      <td>1.23</td>\n",
       "      <td>9.083333</td>\n",
       "    </tr>\n",
       "    <tr>\n",
       "      <th>6499986</th>\n",
       "      <td>1</td>\n",
       "      <td>Card</td>\n",
       "      <td>12.0</td>\n",
       "      <td>2.74</td>\n",
       "      <td>13.900000</td>\n",
       "    </tr>\n",
       "    <tr>\n",
       "      <th>6499987</th>\n",
       "      <td>2</td>\n",
       "      <td>Card</td>\n",
       "      <td>13.5</td>\n",
       "      <td>3.01</td>\n",
       "      <td>16.166667</td>\n",
       "    </tr>\n",
       "    <tr>\n",
       "      <th>6499998</th>\n",
       "      <td>1</td>\n",
       "      <td>Cash</td>\n",
       "      <td>23.5</td>\n",
       "      <td>5.85</td>\n",
       "      <td>26.666667</td>\n",
       "    </tr>\n",
       "    <tr>\n",
       "      <th>6499999</th>\n",
       "      <td>4</td>\n",
       "      <td>Card</td>\n",
       "      <td>9.5</td>\n",
       "      <td>1.89</td>\n",
       "      <td>11.200000</td>\n",
       "    </tr>\n",
       "  </tbody>\n",
       "</table>\n",
       "<p>2322781 rows × 5 columns</p>\n",
       "</div>"
      ],
      "text/plain": [
       "         passenger_count payment_type  fare_amount  trip_distance  \\\n",
       "0                      1         Card          6.0           1.20   \n",
       "1                      1         Card          7.0           1.20   \n",
       "2                      1         Card          6.0           0.60   \n",
       "3                      1         Card          5.5           0.80   \n",
       "5                      1         Cash          2.5           0.03   \n",
       "...                  ...          ...          ...            ...   \n",
       "6499980                1         Card          8.0           1.23   \n",
       "6499986                1         Card         12.0           2.74   \n",
       "6499987                2         Card         13.5           3.01   \n",
       "6499998                1         Cash         23.5           5.85   \n",
       "6499999                4         Card          9.5           1.89   \n",
       "\n",
       "         trip_duration  \n",
       "0             4.800000  \n",
       "1             7.416667  \n",
       "2             6.183333  \n",
       "3             4.850000  \n",
       "5             0.883333  \n",
       "...                ...  \n",
       "6499980       9.083333  \n",
       "6499986      13.900000  \n",
       "6499987      16.166667  \n",
       "6499998      26.666667  \n",
       "6499999      11.200000  \n",
       "\n",
       "[2322781 rows x 5 columns]"
      ]
     },
     "execution_count": 33,
     "metadata": {},
     "output_type": "execute_result"
    }
   ],
   "source": [
    "# Reviewing the data after making relevant changes\n",
    "taxi_data"
   ]
  },
  {
   "cell_type": "markdown",
   "metadata": {
    "id": "X9nMFWVS0ymj"
   },
   "source": [
    "## Analyzing the relationship between payment type, trip distance, and fare amount\n",
    "\n",
    "- To better understand how the passenger behavior, specifically regarding trip distance and fare amount, varies based on the payment method, there is a need to explore the distribution of payment types (Card vs.\n",
    "\n",
    "- Fare Amounts for passengers paying with Card vs Cash.\n",
    "\n",
    "- By comparing these distributions, we can:\n",
    "\n",
    "- Identify which payment type is associated with higher or lower fare amounts.\n",
    "\n",
    "- This visualization will help stakeholders understand fare amount ranges and typical trip distances for each payment type."
   ]
  },
  {
   "cell_type": "code",
   "execution_count": 34,
   "metadata": {
    "colab": {
     "base_uri": "https://localhost:8080/",
     "height": 487
    },
    "id": "klUnzPyE_Mem",
    "outputId": "561a0e8e-05cf-4ba6-c648-6cae4dd48e46"
   },
   "outputs": [
    {
     "data": {
      "image/png": "[encoded data removed]",
      "text/plain": [
       "<Figure size 1200x500 with 2 Axes>"
      ]
     },
     "metadata": {},
     "output_type": "display_data"
    }
   ],
   "source": [
    "# Plotting stacked histogram\n",
    "plt.figure(figsize=(12,5))\n",
    "\n",
    "# Stacked histogram of fare amount for each payment type\n",
    "plt.subplot(1,2,1)\n",
    "plt.hist(taxi_data[taxi_data['payment_type']=='Card']['fare_amount'], histtype = 'barstacked', bins = 20, edgecolor = 'k', color ='#FA643F', label = 'Card')\n",
    "plt.hist(taxi_data[taxi_data['payment_type']=='Cash']['fare_amount'], histtype = 'barstacked', bins = 20, edgecolor = 'k', color ='#FFBCAB', label = 'Cash')\n",
    "plt.legend(['Card', 'Cash'])\n",
    "plt.title(\"Distribution of fare amount for each payment type\")\n",
    "plt.xlabel(\"Fare Amount\")\n",
    "plt.ylabel(\"Frequency\")\n",
    "\n",
    "# Stacked histogram of trip distance for each payment type\n",
    "plt.subplot(1,2,2)\n",
    "plt.hist(taxi_data[taxi_data['payment_type']=='Card']['trip_distance'], histtype = 'barstacked', bins = 20, edgecolor = 'k', color ='#FA643F', label = 'Card')\n",
    "plt.hist(taxi_data[taxi_data['payment_type']=='Cash']['trip_distance'], histtype = 'barstacked', bins = 20, edgecolor = 'k', color ='#FFBCAB', label = 'Cash')\n",
    "plt.legend(['Card', 'Cash'])\n",
    "plt.title(\"Distribution of Trip distance for each payment type\")\n",
    "plt.xlabel(\"Trip Distance\")\n",
    "plt.ylabel(\"Frequency\")\n",
    "\n",
    "plt.show()"
   ]
  },
  {
   "cell_type": "code",
   "execution_count": 35,
   "metadata": {
    "colab": {
     "base_uri": "https://localhost:8080/",
     "height": 175
    },
    "id": "u-dpQfllAiV3",
    "outputId": "ed44af31-ebdc-4675-c79b-15f40859d6d5"
   },
   "outputs": [
    {
     "data": {
      "text/html": [
       "<div>\n",
       "<style scoped>\n",
       "    .dataframe tbody tr th:only-of-type {\n",
       "        vertical-align: middle;\n",
       "    }\n",
       "\n",
       "    .dataframe tbody tr th {\n",
       "        vertical-align: top;\n",
       "    }\n",
       "\n",
       "    .dataframe thead tr th {\n",
       "        text-align: left;\n",
       "    }\n",
       "\n",
       "    .dataframe thead tr:last-of-type th {\n",
       "        text-align: right;\n",
       "    }\n",
       "</style>\n",
       "<table border=\"1\" class=\"dataframe\">\n",
       "  <thead>\n",
       "    <tr>\n",
       "      <th></th>\n",
       "      <th colspan=\"2\" halign=\"left\">fare_amount</th>\n",
       "      <th colspan=\"2\" halign=\"left\">trip_distance</th>\n",
       "    </tr>\n",
       "    <tr>\n",
       "      <th></th>\n",
       "      <th>mean</th>\n",
       "      <th>std</th>\n",
       "      <th>mean</th>\n",
       "      <th>std</th>\n",
       "    </tr>\n",
       "    <tr>\n",
       "      <th>payment_type</th>\n",
       "      <th></th>\n",
       "      <th></th>\n",
       "      <th></th>\n",
       "      <th></th>\n",
       "    </tr>\n",
       "  </thead>\n",
       "  <tbody>\n",
       "    <tr>\n",
       "      <th>Card</th>\n",
       "      <td>13.149007</td>\n",
       "      <td>5.879689</td>\n",
       "      <td>3.009029</td>\n",
       "      <td>2.007860</td>\n",
       "    </tr>\n",
       "    <tr>\n",
       "      <th>Cash</th>\n",
       "      <td>11.789805</td>\n",
       "      <td>5.642582</td>\n",
       "      <td>2.617152</td>\n",
       "      <td>1.928551</td>\n",
       "    </tr>\n",
       "  </tbody>\n",
       "</table>\n",
       "</div>"
      ],
      "text/plain": [
       "             fare_amount           trip_distance          \n",
       "                    mean       std          mean       std\n",
       "payment_type                                              \n",
       "Card           13.149007  5.879689      3.009029  2.007860\n",
       "Cash           11.789805  5.642582      2.617152  1.928551"
      ]
     },
     "execution_count": 35,
     "metadata": {},
     "output_type": "execute_result"
    }
   ],
   "source": [
    "# calculating the mean and standard deviation using group by on payment type\n",
    "taxi_data.groupby('payment_type').agg({'fare_amount':['mean','std'], 'trip_distance':['mean','std']})"
   ]
  },
  {
   "cell_type": "markdown",
   "metadata": {
    "id": "Ahmdzkdp2Faf"
   },
   "source": [
    "## Preference of payment type\n",
    "\n",
    "To analyze passengers' preferences for payment methods, the proportion of the two payment types will have to be assessed."
   ]
  },
  {
   "cell_type": "code",
   "execution_count": 36,
   "metadata": {
    "colab": {
     "base_uri": "https://localhost:8080/",
     "height": 428
    },
    "id": "tgC6ze7aB4pa",
    "outputId": "ad37b731-ddb8-4838-f071-748173a3df92"
   },
   "outputs": [
    {
     "data": {
      "image/png": "[encoded data removed]",
      "text/plain": [
       "<Figure size 640x480 with 1 Axes>"
      ]
     },
     "metadata": {},
     "output_type": "display_data"
    }
   ],
   "source": [
    "plt.title('Preference of Payment Type')\n",
    "plt.pie(taxi_data['payment_type'].value_counts(normalize=True), labels = taxi_data['payment_type'].value_counts().index,\n",
    "        startangle = 90, shadow = True, autopct = '%1.1f%%', colors = ['#FA643F', '#FFBCAB'])\n",
    "plt.show()"
   ]
  },
  {
   "cell_type": "markdown",
   "metadata": {
    "id": "Gd-TkorqDlvL"
   },
   "source": [
    "## Passenger count analysis\n",
    "\n",
    "- The objective is to explore how payment preferences vary with the number of passengers traveling in the cab.\n",
    "\n",
    "- This plot will help to understand whether the payment method chosen changes based on the number of passengers, providing insights into how payment preferences shift with varying passenger numbers."
   ]
  },
  {
   "cell_type": "code",
   "execution_count": 37,
   "metadata": {
    "colab": {
     "base_uri": "https://localhost:8080/",
     "height": 125
    },
    "id": "h-s_uJbdCmkm",
    "outputId": "3badb3ad-cfa8-49c6-d418-e63879e0d760"
   },
   "outputs": [
    {
     "data": {
      "text/html": [
       "<div>\n",
       "<style scoped>\n",
       "    .dataframe tbody tr th:only-of-type {\n",
       "        vertical-align: middle;\n",
       "    }\n",
       "\n",
       "    .dataframe tbody tr th {\n",
       "        vertical-align: top;\n",
       "    }\n",
       "\n",
       "    .dataframe thead th {\n",
       "        text-align: right;\n",
       "    }\n",
       "</style>\n",
       "<table border=\"1\" class=\"dataframe\">\n",
       "  <thead>\n",
       "    <tr style=\"text-align: right;\">\n",
       "      <th></th>\n",
       "      <th>payment_type</th>\n",
       "      <th>1</th>\n",
       "      <th>2</th>\n",
       "      <th>3</th>\n",
       "      <th>4</th>\n",
       "      <th>5</th>\n",
       "    </tr>\n",
       "  </thead>\n",
       "  <tbody>\n",
       "    <tr>\n",
       "      <th>0</th>\n",
       "      <td>Card</td>\n",
       "      <td>39.538037</td>\n",
       "      <td>14.264151</td>\n",
       "      <td>5.332789</td>\n",
       "      <td>2.777317</td>\n",
       "      <td>5.403221</td>\n",
       "    </tr>\n",
       "    <tr>\n",
       "      <th>1</th>\n",
       "      <td>Cash</td>\n",
       "      <td>20.044851</td>\n",
       "      <td>6.763918</td>\n",
       "      <td>2.373104</td>\n",
       "      <td>1.424715</td>\n",
       "      <td>2.077897</td>\n",
       "    </tr>\n",
       "  </tbody>\n",
       "</table>\n",
       "</div>"
      ],
      "text/plain": [
       "  payment_type          1          2         3         4         5\n",
       "0         Card  39.538037  14.264151  5.332789  2.777317  5.403221\n",
       "1         Cash  20.044851   6.763918  2.373104  1.424715  2.077897"
      ]
     },
     "execution_count": 37,
     "metadata": {},
     "output_type": "execute_result"
    }
   ],
   "source": [
    "# calculating the total passenger count distribution based on the different payment type\n",
    "passenger_count = taxi_data.groupby(['payment_type','passenger_count'])[['passenger_count']].count()\n",
    "\n",
    "# renaming passenger_count to count to reset the index\n",
    "passenger_count.rename(columns={'passenger_count':'count'}, inplace=True)\n",
    "passenger_count.reset_index(inplace=True)\n",
    "\n",
    "# calculating the percentage of the each passenger count\n",
    "passenger_count['perc'] = (passenger_count['count'] / passenger_count['count'].sum() )* 100\n",
    "\n",
    "# creating a new empty dataframe to store the distribution of each payment type (useful for visualization)\n",
    "df = pd.DataFrame(columns = ['payment_type',1,2,3,4,5])\n",
    "df['payment_type'] = ['Card', 'Cash']\n",
    "df.iloc[0,1:] = passenger_count.iloc[:5,-1]\n",
    "df.iloc[1,1:] = passenger_count.iloc[5:, -1]\n",
    "\n",
    "df"
   ]
  },
  {
   "cell_type": "code",
   "execution_count": 38,
   "metadata": {
    "colab": {
     "base_uri": "https://localhost:8080/",
     "height": 454
    },
    "id": "ZeD1uXsXFKxY",
    "outputId": "4bbb33bb-9b20-49d4-badc-f914305b3bb7"
   },
   "outputs": [
    {
     "data": {
      "image/png": "[encoded data removed]",
      "text/plain": [
       "<Figure size 2000x600 with 1 Axes>"
      ]
     },
     "metadata": {},
     "output_type": "display_data"
    }
   ],
   "source": [
    "# Plotting the stacked bar plot\n",
    "fig, ax = plt.subplots(figsize=(20, 6))\n",
    "df.plot(x='payment_type', kind='barh', stacked=True, color=['#FA643F','#FFBCAB','#CBB2B2','#F1F1F1','#FD9F9F'], ax=ax)\n",
    "\n",
    "# Add percentage text\n",
    "for p in ax.patches:\n",
    "  width = p.get_width()\n",
    "  height = p.get_height()\n",
    "  x, y = p.get_xy()\n",
    "  ax.text(x + width / 2,\n",
    "          y + height / 2,\n",
    "          '{:.0f}%'.format(width),\n",
    "          horizontalalignment='center',\n",
    "          verticalalignment='center',\n",
    "          fontsize = 10, color='black' if width > 0 else 'white')"
   ]
  },
  {
   "cell_type": "markdown",
   "metadata": {
    "id": "O-t4-uwA13z7"
   },
   "source": [
    "## Understanding the relationship between trip_duration and fare amount\n",
    "\n",
    "- While feature selection, the trip duration was calculated by subtracting the pickup time from the dropoff time."
   ]
  },
  {
   "cell_type": "code",
   "execution_count": 39,
   "metadata": {
    "colab": {
     "base_uri": "https://localhost:8080/"
    },
    "id": "QAoNAJbe4FRX",
    "outputId": "c25c55f3-46be-4010-94b9-b0a8e8acdadb"
   },
   "outputs": [
    {
     "name": "stdout",
     "output_type": "stream",
     "text": [
      "Pearson Correlation Coefficient: 0.8709078485695835\n"
     ]
    }
   ],
   "source": [
    "# Checking for linearity using Correlation Coefficient (Pearson’s r)\n",
    "correlation = taxi_data['trip_duration'].corr(taxi_data['fare_amount'])\n",
    "print(\"Pearson Correlation Coefficient:\", correlation)\n"
   ]
  },
  {
   "cell_type": "markdown",
   "metadata": {
    "id": "Vo7T0bI86fJs"
   },
   "source": [
    "- Both the trip_duration and fareamount are continuous values."
   ]
  },
  {
   "cell_type": "code",
   "execution_count": 40,
   "metadata": {
    "colab": {
     "base_uri": "https://localhost:8080/",
     "height": 458
    },
    "id": "rlLAcge166GF",
    "outputId": "4f377bf5-ee86-4476-fe84-077d2e6d05ed"
   },
   "outputs": [
    {
     "data": {
      "text/plain": [
       "0           4.800000\n",
       "1           7.416667\n",
       "2           6.183333\n",
       "3           4.850000\n",
       "5           0.883333\n",
       "             ...    \n",
       "6499980     9.083333\n",
       "6499986    13.900000\n",
       "6499987    16.166667\n",
       "6499998    26.666667\n",
       "6499999    11.200000\n",
       "Name: trip_duration, Length: 2322781, dtype: float64"
      ]
     },
     "execution_count": 40,
     "metadata": {},
     "output_type": "execute_result"
    }
   ],
   "source": [
    "# Checking the trip_duration column\n",
    "taxi_data['trip_duration']"
   ]
  },
  {
   "cell_type": "code",
   "execution_count": 41,
   "metadata": {
    "colab": {
     "base_uri": "https://localhost:8080/"
    },
    "id": "Z0KvAEC67EUe",
    "outputId": "ae5bcb5a-4b28-479b-cdc4-89255e86fbd9"
   },
   "outputs": [
    {
     "data": {
      "text/plain": [
       "np.int64(0)"
      ]
     },
     "execution_count": 41,
     "metadata": {},
     "output_type": "execute_result"
    }
   ],
   "source": [
    "# checking for missing values in trip_duration field\n",
    "taxi_data['trip_duration'].isnull().sum()"
   ]
  },
  {
   "cell_type": "code",
   "execution_count": 42,
   "metadata": {
    "id": "2DMLzyZe-cdj"
   },
   "outputs": [],
   "source": [
    "# Defining features (trip_duration) and target (fare_amount)\n",
    "x = taxi_data[['trip_duration']]\n",
    "y = taxi_data['fare_amount']"
   ]
  },
  {
   "cell_type": "code",
   "execution_count": 43,
   "metadata": {
    "id": "z_88CziH-qIq"
   },
   "outputs": [],
   "source": [
    "# Splitting the data into training and testing sets\n",
    "x_train, x_test, y_train, y_test = train_test_split(x, y, test_size=0.2, random_state=42)"
   ]
  },
  {
   "cell_type": "code",
   "execution_count": 44,
   "metadata": {
    "colab": {
     "base_uri": "https://localhost:8080/",
     "height": 80
    },
    "id": "KV3omDSS60p7",
    "outputId": "9e3c2b13-b63d-4204-e529-ae2a142e7426"
   },
   "outputs": [
    {
     "data": {
      "text/html": [
       "<style>#sk-container-id-1 {\n",
       "  /* Definition of color scheme common for light and dark mode */\n",
       "  --sklearn-color-text: #000;\n",
       "  --sklearn-color-text-muted: #666;\n",
       "  --sklearn-color-line: gray;\n",
       "  /* Definition of color scheme for unfitted estimators */\n",
       "  --sklearn-color-unfitted-level-0: #fff5e6;\n",
       "  --sklearn-color-unfitted-level-1: #f6e4d2;\n",
       "  --sklearn-color-unfitted-level-2: #ffe0b3;\n",
       "  --sklearn-color-unfitted-level-3: chocolate;\n",
       "  /* Definition of color scheme for fitted estimators */\n",
       "  --sklearn-color-fitted-level-0: #f0f8ff;\n",
       "  --sklearn-color-fitted-level-1: #d4ebff;\n",
       "  --sklearn-color-fitted-level-2: #b3dbfd;\n",
       "  --sklearn-color-fitted-level-3: cornflowerblue;\n",
       "\n",
       "  /* Specific color for light theme */\n",
       "  --sklearn-color-text-on-default-background: var(--sg-text-color, var(--theme-code-foreground, var(--jp-content-font-color1, black)));\n",
       "  --sklearn-color-background: var(--sg-background-color, var(--theme-background, var(--jp-layout-color0, white)));\n",
       "  --sklearn-color-border-box: var(--sg-text-color, var(--theme-code-foreground, var(--jp-content-font-color1, black)));\n",
       "  --sklearn-color-icon: #696969;\n",
       "\n",
       "  @media (prefers-color-scheme: dark) {\n",
       "    /* Redefinition of color scheme for dark theme */\n",
       "    --sklearn-color-text-on-default-background: var(--sg-text-color, var(--theme-code-foreground, var(--jp-content-font-color1, white)));\n",
       "    --sklearn-color-background: var(--sg-background-color, var(--theme-background, var(--jp-layout-color0, #111)));\n",
       "    --sklearn-color-border-box: var(--sg-text-color, var(--theme-code-foreground, var(--jp-content-font-color1, white)));\n",
       "    --sklearn-color-icon: #878787;\n",
       "  }\n",
       "}\n",
       "\n",
       "#sk-container-id-1 {\n",
       "  color: var(--sklearn-color-text);\n",
       "}\n",
       "\n",
       "#sk-container-id-1 pre {\n",
       "  padding: 0;\n",
       "}\n",
       "\n",
       "#sk-container-id-1 input.sk-hidden--visually {\n",
       "  border: 0;\n",
       "  clip: rect(1px 1px 1px 1px);\n",
       "  clip: rect(1px, 1px, 1px, 1px);\n",
       "  height: 1px;\n",
       "  margin: -1px;\n",
       "  overflow: hidden;\n",
       "  padding: 0;\n",
       "  position: absolute;\n",
       "  width: 1px;\n",
       "}\n",
       "\n",
       "#sk-container-id-1 div.sk-dashed-wrapped {\n",
       "  border: 1px dashed var(--sklearn-color-line);\n",
       "  margin: 0 0.4em 0.5em 0.4em;\n",
       "  box-sizing: border-box;\n",
       "  padding-bottom: 0.4em;\n",
       "  background-color: var(--sklearn-color-background);\n",
       "}\n",
       "\n",
       "#sk-container-id-1 div.sk-container {\n",
       "  /* jupyter's `normalize.less` sets `[hidden] { display: none; }`\n",
       "     but bootstrap.min.css set `[hidden] { display: none !important; }`\n",
       "     so we also need the `!important` here to be able to override the\n",
       "     default hidden behavior on the sphinx rendered scikit-learn.org.\n",
       "     See: https://github.com/scikit-learn/scikit-learn/issues/21755 */\n",
       "  display: inline-block !important;\n",
       "  position: relative;\n",
       "}\n",
       "\n",
       "#sk-container-id-1 div.sk-text-repr-fallback {\n",
       "  display: none;\n",
       "}\n",
       "\n",
       "div.sk-parallel-item,\n",
       "div.sk-serial,\n",
       "div.sk-item {\n",
       "  /* draw centered vertical line to link estimators */\n",
       "  background-image: linear-gradient(var(--sklearn-color-text-on-default-background), var(--sklearn-color-text-on-default-background));\n",
       "  background-size: 2px 100%;\n",
       "  background-repeat: no-repeat;\n",
       "  background-position: center center;\n",
       "}\n",
       "\n",
       "/* Parallel-specific style estimator block */\n",
       "\n",
       "#sk-container-id-1 div.sk-parallel-item::after {\n",
       "  content: \"\";\n",
       "  width: 100%;\n",
       "  border-bottom: 2px solid var(--sklearn-color-text-on-default-background);\n",
       "  flex-grow: 1;\n",
       "}\n",
       "\n",
       "#sk-container-id-1 div.sk-parallel {\n",
       "  display: flex;\n",
       "  align-items: stretch;\n",
       "  justify-content: center;\n",
       "  background-color: var(--sklearn-color-background);\n",
       "  position: relative;\n",
       "}\n",
       "\n",
       "#sk-container-id-1 div.sk-parallel-item {\n",
       "  display: flex;\n",
       "  flex-direction: column;\n",
       "}\n",
       "\n",
       "#sk-container-id-1 div.sk-parallel-item:first-child::after {\n",
       "  align-self: flex-end;\n",
       "  width: 50%;\n",
       "}\n",
       "\n",
       "#sk-container-id-1 div.sk-parallel-item:last-child::after {\n",
       "  align-self: flex-start;\n",
       "  width: 50%;\n",
       "}\n",
       "\n",
       "#sk-container-id-1 div.sk-parallel-item:only-child::after {\n",
       "  width: 0;\n",
       "}\n",
       "\n",
       "/* Serial-specific style estimator block */\n",
       "\n",
       "#sk-container-id-1 div.sk-serial {\n",
       "  display: flex;\n",
       "  flex-direction: column;\n",
       "  align-items: center;\n",
       "  background-color: var(--sklearn-color-background);\n",
       "  padding-right: 1em;\n",
       "  padding-left: 1em;\n",
       "}\n",
       "\n",
       "\n",
       "/* Toggleable style: style used for estimator/Pipeline/ColumnTransformer box that is\n",
       "clickable and can be expanded/collapsed.\n",
       "- Pipeline and ColumnTransformer use this feature and define the default style\n",
       "- Estimators will overwrite some part of the style using the `sk-estimator` class\n",
       "*/\n",
       "\n",
       "/* Pipeline and ColumnTransformer style (default) */\n",
       "\n",
       "#sk-container-id-1 div.sk-toggleable {\n",
       "  /* Default theme specific background. It is overwritten whether we have a\n",
       "  specific estimator or a Pipeline/ColumnTransformer */\n",
       "  background-color: var(--sklearn-color-background);\n",
       "}\n",
       "\n",
       "/* Toggleable label */\n",
       "#sk-container-id-1 label.sk-toggleable__label {\n",
       "  cursor: pointer;\n",
       "  display: flex;\n",
       "  width: 100%;\n",
       "  margin-bottom: 0;\n",
       "  padding: 0.5em;\n",
       "  box-sizing: border-box;\n",
       "  text-align: center;\n",
       "  align-items: start;\n",
       "  justify-content: space-between;\n",
       "  gap: 0.5em;\n",
       "}\n",
       "\n",
       "#sk-container-id-1 label.sk-toggleable__label .caption {\n",
       "  font-size: 0.6rem;\n",
       "  font-weight: lighter;\n",
       "  color: var(--sklearn-color-text-muted);\n",
       "}\n",
       "\n",
       "#sk-container-id-1 label.sk-toggleable__label-arrow:before {\n",
       "  /* Arrow on the left of the label */\n",
       "  content: \"▸\";\n",
       "  float: left;\n",
       "  margin-right: 0.25em;\n",
       "  color: var(--sklearn-color-icon);\n",
       "}\n",
       "\n",
       "#sk-container-id-1 label.sk-toggleable__label-arrow:hover:before {\n",
       "  color: var(--sklearn-color-text);\n",
       "}\n",
       "\n",
       "/* Toggleable content - dropdown */\n",
       "\n",
       "#sk-container-id-1 div.sk-toggleable__content {\n",
       "  display: none;\n",
       "  text-align: left;\n",
       "  /* unfitted */\n",
       "  background-color: var(--sklearn-color-unfitted-level-0);\n",
       "}\n",
       "\n",
       "#sk-container-id-1 div.sk-toggleable__content.fitted {\n",
       "  /* fitted */\n",
       "  background-color: var(--sklearn-color-fitted-level-0);\n",
       "}\n",
       "\n",
       "#sk-container-id-1 div.sk-toggleable__content pre {\n",
       "  margin: 0.2em;\n",
       "  border-radius: 0.25em;\n",
       "  color: var(--sklearn-color-text);\n",
       "  /* unfitted */\n",
       "  background-color: var(--sklearn-color-unfitted-level-0);\n",
       "}\n",
       "\n",
       "#sk-container-id-1 div.sk-toggleable__content.fitted pre {\n",
       "  /* unfitted */\n",
       "  background-color: var(--sklearn-color-fitted-level-0);\n",
       "}\n",
       "\n",
       "#sk-container-id-1 input.sk-toggleable__control:checked~div.sk-toggleable__content {\n",
       "  /* Expand drop-down */\n",
       "  display: block;\n",
       "  width: 100%;\n",
       "  overflow: visible;\n",
       "}\n",
       "\n",
       "#sk-container-id-1 input.sk-toggleable__control:checked~label.sk-toggleable__label-arrow:before {\n",
       "  content: \"▾\";\n",
       "}\n",
       "\n",
       "/* Pipeline/ColumnTransformer-specific style */\n",
       "\n",
       "#sk-container-id-1 div.sk-label input.sk-toggleable__control:checked~label.sk-toggleable__label {\n",
       "  color: var(--sklearn-color-text);\n",
       "  background-color: var(--sklearn-color-unfitted-level-2);\n",
       "}\n",
       "\n",
       "#sk-container-id-1 div.sk-label.fitted input.sk-toggleable__control:checked~label.sk-toggleable__label {\n",
       "  background-color: var(--sklearn-color-fitted-level-2);\n",
       "}\n",
       "\n",
       "/* Estimator-specific style */\n",
       "\n",
       "/* Colorize estimator box */\n",
       "#sk-container-id-1 div.sk-estimator input.sk-toggleable__control:checked~label.sk-toggleable__label {\n",
       "  /* unfitted */\n",
       "  background-color: var(--sklearn-color-unfitted-level-2);\n",
       "}\n",
       "\n",
       "#sk-container-id-1 div.sk-estimator.fitted input.sk-toggleable__control:checked~label.sk-toggleable__label {\n",
       "  /* fitted */\n",
       "  background-color: var(--sklearn-color-fitted-level-2);\n",
       "}\n",
       "\n",
       "#sk-container-id-1 div.sk-label label.sk-toggleable__label,\n",
       "#sk-container-id-1 div.sk-label label {\n",
       "  /* The background is the default theme color */\n",
       "  color: var(--sklearn-color-text-on-default-background);\n",
       "}\n",
       "\n",
       "/* On hover, darken the color of the background */\n",
       "#sk-container-id-1 div.sk-label:hover label.sk-toggleable__label {\n",
       "  color: var(--sklearn-color-text);\n",
       "  background-color: var(--sklearn-color-unfitted-level-2);\n",
       "}\n",
       "\n",
       "/* Label box, darken color on hover, fitted */\n",
       "#sk-container-id-1 div.sk-label.fitted:hover label.sk-toggleable__label.fitted {\n",
       "  color: var(--sklearn-color-text);\n",
       "  background-color: var(--sklearn-color-fitted-level-2);\n",
       "}\n",
       "\n",
       "/* Estimator label */\n",
       "\n",
       "#sk-container-id-1 div.sk-label label {\n",
       "  font-family: monospace;\n",
       "  font-weight: bold;\n",
       "  display: inline-block;\n",
       "  line-height: 1.2em;\n",
       "}\n",
       "\n",
       "#sk-container-id-1 div.sk-label-container {\n",
       "  text-align: center;\n",
       "}\n",
       "\n",
       "/* Estimator-specific */\n",
       "#sk-container-id-1 div.sk-estimator {\n",
       "  font-family: monospace;\n",
       "  border: 1px dotted var(--sklearn-color-border-box);\n",
       "  border-radius: 0.25em;\n",
       "  box-sizing: border-box;\n",
       "  margin-bottom: 0.5em;\n",
       "  /* unfitted */\n",
       "  background-color: var(--sklearn-color-unfitted-level-0);\n",
       "}\n",
       "\n",
       "#sk-container-id-1 div.sk-estimator.fitted {\n",
       "  /* fitted */\n",
       "  background-color: var(--sklearn-color-fitted-level-0);\n",
       "}\n",
       "\n",
       "/* on hover */\n",
       "#sk-container-id-1 div.sk-estimator:hover {\n",
       "  /* unfitted */\n",
       "  background-color: var(--sklearn-color-unfitted-level-2);\n",
       "}\n",
       "\n",
       "#sk-container-id-1 div.sk-estimator.fitted:hover {\n",
       "  /* fitted */\n",
       "  background-color: var(--sklearn-color-fitted-level-2);\n",
       "}\n",
       "\n",
       "/* Specification for estimator info (e.g. \"i\" and \"?\") */\n",
       "\n",
       "/* Common style for \"i\" and \"?\" */\n",
       "\n",
       ".sk-estimator-doc-link,\n",
       "a:link.sk-estimator-doc-link,\n",
       "a:visited.sk-estimator-doc-link {\n",
       "  float: right;\n",
       "  font-size: smaller;\n",
       "  line-height: 1em;\n",
       "  font-family: monospace;\n",
       "  background-color: var(--sklearn-color-background);\n",
       "  border-radius: 1em;\n",
       "  height: 1em;\n",
       "  width: 1em;\n",
       "  text-decoration: none !important;\n",
       "  margin-left: 0.5em;\n",
       "  text-align: center;\n",
       "  /* unfitted */\n",
       "  border: var(--sklearn-color-unfitted-level-1) 1pt solid;\n",
       "  color: var(--sklearn-color-unfitted-level-1);\n",
       "}\n",
       "\n",
       ".sk-estimator-doc-link.fitted,\n",
       "a:link.sk-estimator-doc-link.fitted,\n",
       "a:visited.sk-estimator-doc-link.fitted {\n",
       "  /* fitted */\n",
       "  border: var(--sklearn-color-fitted-level-1) 1pt solid;\n",
       "  color: var(--sklearn-color-fitted-level-1);\n",
       "}\n",
       "\n",
       "/* On hover */\n",
       "div.sk-estimator:hover .sk-estimator-doc-link:hover,\n",
       ".sk-estimator-doc-link:hover,\n",
       "div.sk-label-container:hover .sk-estimator-doc-link:hover,\n",
       ".sk-estimator-doc-link:hover {\n",
       "  /* unfitted */\n",
       "  background-color: var(--sklearn-color-unfitted-level-3);\n",
       "  color: var(--sklearn-color-background);\n",
       "  text-decoration: none;\n",
       "}\n",
       "\n",
       "div.sk-estimator.fitted:hover .sk-estimator-doc-link.fitted:hover,\n",
       ".sk-estimator-doc-link.fitted:hover,\n",
       "div.sk-label-container:hover .sk-estimator-doc-link.fitted:hover,\n",
       ".sk-estimator-doc-link.fitted:hover {\n",
       "  /* fitted */\n",
       "  background-color: var(--sklearn-color-fitted-level-3);\n",
       "  color: var(--sklearn-color-background);\n",
       "  text-decoration: none;\n",
       "}\n",
       "\n",
       "/* Span, style for the box shown on hovering the info icon */\n",
       ".sk-estimator-doc-link span {\n",
       "  display: none;\n",
       "  z-index: 9999;\n",
       "  position: relative;\n",
       "  font-weight: normal;\n",
       "  right: .2ex;\n",
       "  padding: .5ex;\n",
       "  margin: .5ex;\n",
       "  width: min-content;\n",
       "  min-width: 20ex;\n",
       "  max-width: 50ex;\n",
       "  color: var(--sklearn-color-text);\n",
       "  box-shadow: 2pt 2pt 4pt #999;\n",
       "  /* unfitted */\n",
       "  background: var(--sklearn-color-unfitted-level-0);\n",
       "  border: .5pt solid var(--sklearn-color-unfitted-level-3);\n",
       "}\n",
       "\n",
       ".sk-estimator-doc-link.fitted span {\n",
       "  /* fitted */\n",
       "  background: var(--sklearn-color-fitted-level-0);\n",
       "  border: var(--sklearn-color-fitted-level-3);\n",
       "}\n",
       "\n",
       ".sk-estimator-doc-link:hover span {\n",
       "  display: block;\n",
       "}\n",
       "\n",
       "/* \"?\"-specific style due to the `<a>` HTML tag */\n",
       "\n",
       "#sk-container-id-1 a.estimator_doc_link {\n",
       "  float: right;\n",
       "  font-size: 1rem;\n",
       "  line-height: 1em;\n",
       "  font-family: monospace;\n",
       "  background-color: var(--sklearn-color-background);\n",
       "  border-radius: 1rem;\n",
       "  height: 1rem;\n",
       "  width: 1rem;\n",
       "  text-decoration: none;\n",
       "  /* unfitted */\n",
       "  color: var(--sklearn-color-unfitted-level-1);\n",
       "  border: var(--sklearn-color-unfitted-level-1) 1pt solid;\n",
       "}\n",
       "\n",
       "#sk-container-id-1 a.estimator_doc_link.fitted {\n",
       "  /* fitted */\n",
       "  border: var(--sklearn-color-fitted-level-1) 1pt solid;\n",
       "  color: var(--sklearn-color-fitted-level-1);\n",
       "}\n",
       "\n",
       "/* On hover */\n",
       "#sk-container-id-1 a.estimator_doc_link:hover {\n",
       "  /* unfitted */\n",
       "  background-color: var(--sklearn-color-unfitted-level-3);\n",
       "  color: var(--sklearn-color-background);\n",
       "  text-decoration: none;\n",
       "}\n",
       "\n",
       "#sk-container-id-1 a.estimator_doc_link.fitted:hover {\n",
       "  /* fitted */\n",
       "  background-color: var(--sklearn-color-fitted-level-3);\n",
       "}\n",
       "\n",
       ".estimator-table summary {\n",
       "    padding: .5rem;\n",
       "    font-family: monospace;\n",
       "    cursor: pointer;\n",
       "}\n",
       "\n",
       ".estimator-table details[open] {\n",
       "    padding-left: 0.1rem;\n",
       "    padding-right: 0.1rem;\n",
       "    padding-bottom: 0.3rem;\n",
       "}\n",
       "\n",
       ".estimator-table .parameters-table {\n",
       "    margin-left: auto !important;\n",
       "    margin-right: auto !important;\n",
       "}\n",
       "\n",
       ".estimator-table .parameters-table tr:nth-child(odd) {\n",
       "    background-color: #fff;\n",
       "}\n",
       "\n",
       ".estimator-table .parameters-table tr:nth-child(even) {\n",
       "    background-color: #f6f6f6;\n",
       "}\n",
       "\n",
       ".estimator-table .parameters-table tr:hover {\n",
       "    background-color: #e0e0e0;\n",
       "}\n",
       "\n",
       ".estimator-table table td {\n",
       "    border: 1px solid rgba(106, 105, 104, 0.232);\n",
       "}\n",
       "\n",
       ".user-set td {\n",
       "    color:rgb(255, 94, 0);\n",
       "    text-align: left;\n",
       "}\n",
       "\n",
       ".user-set td.value pre {\n",
       "    color:rgb(255, 94, 0) !important;\n",
       "    background-color: transparent !important;\n",
       "}\n",
       "\n",
       ".default td {\n",
       "    color: black;\n",
       "    text-align: left;\n",
       "}\n",
       "\n",
       ".user-set td i,\n",
       ".default td i {\n",
       "    color: black;\n",
       "}\n",
       "\n",
       ".copy-paste-icon {\n",
       "    background-image: url(data:image/svg+xml;base64,PHN2ZyB4bWxucz0iaHR0cDovL3d3dy53My5vcmcvMjAwMC9zdmciIHZpZXdCb3g9IjAgMCA0NDggNTEyIj48IS0tIUZvbnQgQXdlc29tZSBGcmVlIDYuNy4yIGJ5IEBmb250YXdlc29tZSAtIGh0dHBzOi8vZm9udGF3ZXNvbWUuY29tIExpY2Vuc2UgLSBodHRwczovL2ZvbnRhd2Vzb21lLmNvbS9saWNlbnNlL2ZyZWUgQ29weXJpZ2h0IDIwMjUgRm9udGljb25zLCBJbmMuLS0+PHBhdGggZD0iTTIwOCAwTDMzMi4xIDBjMTIuNyAwIDI0LjkgNS4xIDMzLjkgMTQuMWw2Ny45IDY3LjljOSA5IDE0LjEgMjEuMiAxNC4xIDMzLjlMNDQ4IDMzNmMwIDI2LjUtMjEuNSA0OC00OCA0OGwtMTkyIDBjLTI2LjUgMC00OC0yMS41LTQ4LTQ4bDAtMjg4YzAtMjYuNSAyMS41LTQ4IDQ4LTQ4ek00OCAxMjhsODAgMCAwIDY0LTY0IDAgMCAyNTYgMTkyIDAgMC0zMiA2NCAwIDAgNDhjMCAyNi41LTIxLjUgNDgtNDggNDhMNDggNTEyYy0yNi41IDAtNDgtMjEuNS00OC00OEwwIDE3NmMwLTI2LjUgMjEuNS00OCA0OC00OHoiLz48L3N2Zz4=);\n",
       "    background-repeat: no-repeat;\n",
       "    background-size: 14px 14px;\n",
       "    background-position: 0;\n",
       "    display: inline-block;\n",
       "    width: 14px;\n",
       "    height: 14px;\n",
       "    cursor: pointer;\n",
       "}\n",
       "</style><body><div id=\"sk-container-id-1\" class=\"sk-top-container\"><div class=\"sk-text-repr-fallback\"><pre>LinearRegression()</pre><b>In a Jupyter environment, please rerun this cell to show the HTML representation or trust the notebook. <br />On GitHub, the HTML representation is unable to render, please try loading this page with nbviewer.org.</b></div><div class=\"sk-container\" hidden><div class=\"sk-item\"><div class=\"sk-estimator fitted sk-toggleable\"><input class=\"sk-toggleable__control sk-hidden--visually\" id=\"sk-estimator-id-1\" type=\"checkbox\" checked><label for=\"sk-estimator-id-1\" class=\"sk-toggleable__label fitted sk-toggleable__label-arrow\"><div><div>LinearRegression</div></div><div><a class=\"sk-estimator-doc-link fitted\" rel=\"noreferrer\" target=\"_blank\" href=\"https://scikit-learn.org/1.7/modules/generated/sklearn.linear_model.LinearRegression.html\">?<span>Documentation for LinearRegression</span></a><span class=\"sk-estimator-doc-link fitted\">i<span>Fitted</span></span></div></label><div class=\"sk-toggleable__content fitted\" data-param-prefix=\"\">\n",
       "        <div class=\"estimator-table\">\n",
       "            <details>\n",
       "                <summary>Parameters</summary>\n",
       "                <table class=\"parameters-table\">\n",
       "                  <tbody>\n",
       "                    \n",
       "        <tr class=\"default\">\n",
       "            <td><i class=\"copy-paste-icon\"\n",
       "                 onclick=\"copyToClipboard('fit_intercept',\n",
       "                          this.parentElement.nextElementSibling)\"\n",
       "            ></i></td>\n",
       "            <td class=\"param\">fit_intercept&nbsp;</td>\n",
       "            <td class=\"value\">True</td>\n",
       "        </tr>\n",
       "    \n",
       "\n",
       "        <tr class=\"default\">\n",
       "            <td><i class=\"copy-paste-icon\"\n",
       "                 onclick=\"copyToClipboard('copy_X',\n",
       "                          this.parentElement.nextElementSibling)\"\n",
       "            ></i></td>\n",
       "            <td class=\"param\">copy_X&nbsp;</td>\n",
       "            <td class=\"value\">True</td>\n",
       "        </tr>\n",
       "    \n",
       "\n",
       "        <tr class=\"default\">\n",
       "            <td><i class=\"copy-paste-icon\"\n",
       "                 onclick=\"copyToClipboard('tol',\n",
       "                          this.parentElement.nextElementSibling)\"\n",
       "            ></i></td>\n",
       "            <td class=\"param\">tol&nbsp;</td>\n",
       "            <td class=\"value\">1e-06</td>\n",
       "        </tr>\n",
       "    \n",
       "\n",
       "        <tr class=\"default\">\n",
       "            <td><i class=\"copy-paste-icon\"\n",
       "                 onclick=\"copyToClipboard('n_jobs',\n",
       "                          this.parentElement.nextElementSibling)\"\n",
       "            ></i></td>\n",
       "            <td class=\"param\">n_jobs&nbsp;</td>\n",
       "            <td class=\"value\">None</td>\n",
       "        </tr>\n",
       "    \n",
       "\n",
       "        <tr class=\"default\">\n",
       "            <td><i class=\"copy-paste-icon\"\n",
       "                 onclick=\"copyToClipboard('positive',\n",
       "                          this.parentElement.nextElementSibling)\"\n",
       "            ></i></td>\n",
       "            <td class=\"param\">positive&nbsp;</td>\n",
       "            <td class=\"value\">False</td>\n",
       "        </tr>\n",
       "    \n",
       "                  </tbody>\n",
       "                </table>\n",
       "            </details>\n",
       "        </div>\n",
       "    </div></div></div></div></div><script>function copyToClipboard(text, element) {\n",
       "    // Get the parameter prefix from the closest toggleable content\n",
       "    const toggleableContent = element.closest('.sk-toggleable__content');\n",
       "    const paramPrefix = toggleableContent ? toggleableContent.dataset.paramPrefix : '';\n",
       "    const fullParamName = paramPrefix ? `${paramPrefix}${text}` : text;\n",
       "\n",
       "    const originalStyle = element.style;\n",
       "    const computedStyle = window.getComputedStyle(element);\n",
       "    const originalWidth = computedStyle.width;\n",
       "    const originalHTML = element.innerHTML.replace('Copied!', '');\n",
       "\n",
       "    navigator.clipboard.writeText(fullParamName)\n",
       "        .then(() => {\n",
       "            element.style.width = originalWidth;\n",
       "            element.style.color = 'green';\n",
       "            element.innerHTML = \"Copied!\";\n",
       "\n",
       "            setTimeout(() => {\n",
       "                element.innerHTML = originalHTML;\n",
       "                element.style = originalStyle;\n",
       "            }, 2000);\n",
       "        })\n",
       "        .catch(err => {\n",
       "            console.error('Failed to copy:', err);\n",
       "            element.style.color = 'red';\n",
       "            element.innerHTML = \"Failed!\";\n",
       "            setTimeout(() => {\n",
       "                element.innerHTML = originalHTML;\n",
       "                element.style = originalStyle;\n",
       "            }, 2000);\n",
       "        });\n",
       "    return false;\n",
       "}\n",
       "\n",
       "document.querySelectorAll('.fa-regular.fa-copy').forEach(function(element) {\n",
       "    const toggleableContent = element.closest('.sk-toggleable__content');\n",
       "    const paramPrefix = toggleableContent ? toggleableContent.dataset.paramPrefix : '';\n",
       "    const paramName = element.parentElement.nextElementSibling.textContent.trim();\n",
       "    const fullParamName = paramPrefix ? `${paramPrefix}${paramName}` : paramName;\n",
       "\n",
       "    element.setAttribute('title', fullParamName);\n",
       "});\n",
       "</script></body>"
      ],
      "text/plain": [
       "LinearRegression()"
      ]
     },
     "execution_count": 44,
     "metadata": {},
     "output_type": "execute_result"
    }
   ],
   "source": [
    "# Initialize and fit the Linear Regression model\n",
    "model = LinearRegression()\n",
    "model.fit(x_train, y_train)"
   ]
  },
  {
   "cell_type": "code",
   "execution_count": 45,
   "metadata": {
    "colab": {
     "base_uri": "https://localhost:8080/"
    },
    "id": "ExyRzim576Vh",
    "outputId": "3a7759b2-d8b3-43f4-83c4-9030ee3cad26"
   },
   "outputs": [
    {
     "data": {
      "text/plain": [
       "array([16.31944908, 18.57703649, 13.70296316, ..., 12.33683335,\n",
       "       12.41787495, 12.01266695], shape=(464557,))"
      ]
     },
     "execution_count": 45,
     "metadata": {},
     "output_type": "execute_result"
    }
   ],
   "source": [
    "# Predict on the test set\n",
    "y_pred = model.predict(x_test)\n",
    "y_pred"
   ]
  },
  {
   "cell_type": "markdown",
   "metadata": {
    "id": "hLjJw8uN4101"
   },
   "source": [
    "The R-squared value analyzed below indicates how well the model fits the data, explaining the variance in fare amounts based on trip duration."
   ]
  },
  {
   "cell_type": "code",
   "execution_count": 46,
   "metadata": {
    "colab": {
     "base_uri": "https://localhost:8080/"
    },
    "id": "bLhUWnnl794r",
    "outputId": "b161a5e8-b411-4b8e-f10b-55a2e08674b3"
   },
   "outputs": [
    {
     "name": "stdout",
     "output_type": "stream",
     "text": [
      "Mean Squared Error: 8.243426406853755\n",
      "R-squared: 0.7570410467486847\n"
     ]
    }
   ],
   "source": [
    "# Evaluate the Model performance\n",
    "print(\"Mean Squared Error:\", mean_squared_error(y_test, y_pred))\n",
    "print(\"R-squared:\", r2_score(y_test, y_pred))"
   ]
  },
  {
   "cell_type": "code",
   "execution_count": 47,
   "metadata": {
    "colab": {
     "base_uri": "https://localhost:8080/"
    },
    "id": "6TiGfliK82OV",
    "outputId": "c0737620-b12a-4127-fc40-e7f6d317cf0e"
   },
   "outputs": [
    {
     "name": "stdout",
     "output_type": "stream",
     "text": [
      "Cross-Validation R-squared Scores: [0.79402212 0.7670035  0.7488579  0.72478907 0.71769344]\n",
      "Mean R-squared Score: 0.7504732061943137\n",
      "Standard Deviation of R-squared Scores: 0.027951943587208622\n"
     ]
    }
   ],
   "source": [
    "# Cross-validation to ensure model generalization.\n",
    "# Perform 5-fold cross-validation\n",
    "cv_scores = cross_val_score(model, x, y, cv=5, scoring='r2')\n",
    "\n",
    "print(\"Cross-Validation R-squared Scores:\", cv_scores)\n",
    "print(\"Mean R-squared Score:\", np.mean(cv_scores))\n",
    "print(\"Standard Deviation of R-squared Scores:\", np.std(cv_scores))"
   ]
  },
  {
   "cell_type": "code",
   "execution_count": 48,
   "metadata": {
    "colab": {
     "base_uri": "https://localhost:8080/",
     "height": 564
    },
    "id": "C0WAwTp48CRu",
    "outputId": "a296bb36-55c9-4cf2-9d2e-845c926a3e03"
   },
   "outputs": [
    {
     "data": {
      "image/png": "[encoded data removed]",
      "text/plain": [
       "<Figure size 1000x600 with 2 Axes>"
      ]
     },
     "metadata": {},
     "output_type": "display_data"
    }
   ],
   "source": [
    "# Visualize the relationship between trip duration and Fare amount using Hexbin plot\n",
    "\n",
    "plt.figure(figsize=(10, 6))\n",
    "plt.hexbin(x_test['trip_duration'], y_test, gridsize=30, cmap='Reds', mincnt=1)\n",
    "plt.colorbar(label='Number of Points')\n",
    "\n",
    "# Plot predicted fare\n",
    "plt.plot(x_test, y_pred, color='black', linewidth=2, label='Predicted Fare')\n",
    "plt.xlabel('trip duration')\n",
    "plt.ylabel('Fare Amount')\n",
    "plt.title('Hexbin Plot: trip duration vs Fare Amount')\n",
    "plt.legend()\n",
    "plt.show()"
   ]
  },
  {
   "cell_type": "markdown",
   "metadata": {
    "id": "xw6LSLC7GS8H"
   },
   "source": [
    "- Residual Plot below shows the relationship between trip duration (on the x-axis) and the residuals (on the y-axis).\n",
    "\n",
    "- This helps to visually assess if the model performs poorly for certain trip durations, which may indicate areas where trip duration and fare amount don't correlate well."
   ]
  },
  {
   "cell_type": "code",
   "execution_count": 49,
   "metadata": {
    "colab": {
     "base_uri": "https://localhost:8080/",
     "height": 564
    },
    "id": "I94NVpjxF5jk",
    "outputId": "d4998d06-d027-47c8-8ff6-19e0029f3e37"
   },
   "outputs": [
    {
     "data": {
      "image/png": "[encoded data removed]",
      "text/plain": [
       "<Figure size 1000x600 with 1 Axes>"
      ]
     },
     "metadata": {},
     "output_type": "display_data"
    }
   ],
   "source": [
    "# Residual Plot to Detect Deviations/Anomalies\n",
    "residuals = y_test - y_pred\n",
    "plt.figure(figsize=(10, 6))\n",
    "plt.scatter(x_test, residuals, color='#FA643F', alpha=0.5)\n",
    "plt.axhline(y=0, color='black', linestyle='--', linewidth=2)\n",
    "plt.xlabel('trip duration (minutes)')\n",
    "plt.ylabel('Residuals (Fare Amount - Predicted Fare)')\n",
    "plt.title('Residuals Plot: trip duration vs Residuals')\n",
    "plt.show()"
   ]
  },
  {
   "cell_type": "markdown",
   "metadata": {
    "id": "75BgfAtrG1qK"
   },
   "source": [
    "- Fare Variability by trip_duration range is analyzed by binning the trip_duration feature into different ranges (e.g., 0-10 mins, 10-20 mins, etc.) to analyze how the fare amount varies for different trip lengths."
   ]
  },
  {
   "cell_type": "code",
   "execution_count": 50,
   "metadata": {
    "colab": {
     "base_uri": "https://localhost:8080/"
    },
    "id": "oVV9U7CrGAPM",
    "outputId": "447cebab-60db-47fa-f462-d7f5e1a0aad5"
   },
   "outputs": [
    {
     "name": "stdout",
     "output_type": "stream",
     "text": [
      "Fare Amount Variability Based on trip_duration Ranges:\n",
      "                         mean       std        var\n",
      "trip_duration_bins                                \n",
      "0-10 mins            6.857808  2.215743   4.909515\n",
      "10-20 mins          12.907291  3.726069  13.883588\n",
      "20-30 mins          19.145901  3.972433  15.780223\n",
      "30-60 mins          24.087467  3.593769  12.915177\n",
      ">60 mins                  NaN       NaN        NaN\n"
     ]
    }
   ],
   "source": [
    "# Exploring Variability of Fare Amount Based on trip_duration Ranges\n",
    "\n",
    "# Create bins for trip_durations\n",
    "taxi_data['trip_duration_bins'] = pd.cut(taxi_data['trip_duration'], bins=[0, 10, 20, 30, 60, np.inf], labels=['0-10 mins', '10-20 mins', '20-30 mins', '30-60 mins', '>60 mins'])\n",
    "fare_variability = taxi_data.groupby('trip_duration_bins')['fare_amount'].agg(['mean', 'std', 'var'])\n",
    "print(\"Fare Amount Variability Based on trip_duration Ranges:\")\n",
    "print(fare_variability)"
   ]
  },
  {
   "cell_type": "code",
   "execution_count": 51,
   "metadata": {
    "colab": {
     "base_uri": "https://localhost:8080/",
     "height": 631
    },
    "id": "_txBEE0VGCCs",
    "outputId": "df668358-4590-4bc0-b366-8b69de327fcf"
   },
   "outputs": [
    {
     "data": {
      "image/png": "[encoded data removed]",
      "text/plain": [
       "<Figure size 1000x600 with 1 Axes>"
      ]
     },
     "metadata": {},
     "output_type": "display_data"
    }
   ],
   "source": [
    "# Plot the standard deviation of fare amounts for different trip_duration ranges\n",
    "plt.figure(figsize=(10, 6))\n",
    "fare_variability['std'].plot(kind='bar', color='#FA643F', figsize=(10, 6))\n",
    "plt.title('Fare Amount Standard Deviation by trip duration Ranges')\n",
    "plt.ylabel('Standard Deviation of Fare Amount\\n')\n",
    "plt.xlabel('\\ntrip duration Ranges')\n",
    "plt.xticks(rotation=45)\n",
    "plt.show()"
   ]
  },
  {
   "cell_type": "markdown",
   "metadata": {
    "id": "-WDpEr2J-sB_"
   },
   "source": [
    "## Interpretation of the results of linear regression\n",
    "\n",
    "- Mean Squared Error (MSE): 8.12 indicates the average squared difference between the predicted fare amounts and the actual fare amounts.\n",
    "\n",
    "- R-squared (on Test Set):  0.76 means that the model explains approximately 76% of the variance in fare amounts based on trip duration.\n",
    "\n",
    "- Cross-Validation R-squared Scores:  The cross-validation R-squared scores are slightly higher on average (mean = 0.752) compared to the R-squared on the test set, but they are fairly consistent.\n",
    "\n",
    "- Residual Behaviour: The residuals plot shows that the residuals are not uniformly distributed, especially at shorter trip durations (0-10 minutes).\n",
    "\n",
    "- Fare Variability by trip_duration:  The standard deviation of fares increases with trip duration, reflecting that longer trips have more variability in fare amounts due to various factors.\n",
    "\n",
    "### Further Investigation\n",
    "1. Addressing the non-linear relationships especially for short trips by experimenting with polynomial or other non-linear models.\n",
    "2. Adding additional features can help to improve the model's performance.\n",
    "3. Investigating heteroscedasticity and applying transformations or models to hanfle non-constant variance."
   ]
  },
  {
   "cell_type": "markdown",
   "metadata": {
    "id": "NnRyWKpb9YM7"
   },
   "source": [
    "## Note: It is difficult to tell anything about the model using mse."
   ]
  },
  {
   "cell_type": "code",
   "execution_count": 52,
   "metadata": {
    "colab": {
     "base_uri": "https://localhost:8080/"
    },
    "id": "kGKAfDMkAWZm",
    "outputId": "784bb48c-0c97-47ef-97ce-4f66f1b857e9"
   },
   "outputs": [
    {
     "name": "stdout",
     "output_type": "stream",
     "text": [
      "Baseline Model MSE: 33.92935235772805\n",
      "Linear Regression Model MSE: 8.243426406853755\n"
     ]
    }
   ],
   "source": [
    "# Calculating the Mean Fare\n",
    "mean_fare = taxi_data['fare_amount'].mean()\n",
    "\n",
    "# Creating the Baseline Predictions\n",
    "y_baseline_pred = np.full_like(y_test, mean_fare)\n",
    "\n",
    "# Calculating the MSE for the Baseline Model\n",
    "baseline_mse = mean_squared_error(y_test, y_baseline_pred)\n",
    "\n",
    "# Printing the Baseline MSE\n",
    "print(\"Baseline Model MSE:\", baseline_mse)\n",
    "\n",
    "# Comparing the MSE's of both the models\n",
    "print(\"Linear Regression Model MSE:\", mean_squared_error(y_test, y_pred))\n",
    "\n"
   ]
  },
  {
   "cell_type": "markdown",
   "metadata": {
    "id": "j0sT4kVIBAyd"
   },
   "source": [
    "#### The linear regression model has a significantly lower MSE compared to the baseline model."
   ]
  },
  {
   "cell_type": "markdown",
   "metadata": {
    "id": "XO6NrzRJ1ReM"
   },
   "source": [
    "## Hypothesis testing\n",
    "\n",
    "- In order to select the most suitable test for the current scenario, the initial step involves evaluating whether the distribution of fare amounts adheres to a normal distribution.\n",
    "\n",
    "- Quantile-Quantile (QQ) plots can be used to assess whether the fare amount distributions for each payment type are approximately normally distributed."
   ]
  },
  {
   "cell_type": "code",
   "execution_count": 53,
   "metadata": {
    "colab": {
     "base_uri": "https://localhost:8080/",
     "height": 449
    },
    "id": "KvH88J50FnCB",
    "outputId": "108f3622-63f2-4d78-9e35-50768e76c168"
   },
   "outputs": [
    {
     "data": {
      "image/png": "[encoded data removed]",
      "text/plain": [
       "<Figure size 640x480 with 1 Axes>"
      ]
     },
     "metadata": {},
     "output_type": "display_data"
    }
   ],
   "source": [
    "# Creating a Q-Q plot with 45 degree line added to plot\n",
    "fig = sm.qqplot(taxi_data['fare_amount'], line = '45')\n",
    "plt.show()"
   ]
  },
  {
   "cell_type": "markdown",
   "metadata": {
    "id": "mlfodInK5qXS"
   },
   "source": [
    "## Interpretation of Q-Q plot\n",
    "- The data values clearly do not follow the red coloured 45-degree line, which is an indication that they do not follow a normal distribution.\n",
    "- We cannot apply ANOVA and Chi-square test on this data. Remaining are z-test and t-test. A z-distribution will not be a good idea because the data is not normally distributed and also, the standard deviation of the population is unknown. Hence, T test will be used.\n",
    "- Given that the T-test can be applied to both small and large samples and does not require the population standard deviation, it is a more universally applicable approach for hypothesis testing in many practical research scenarios, including analyses of taxi trip data.\n",
    "- In the analysis of NYC Yellow Taxi Trip Records, it is likely to deal with an unknown population standard deviation and potentially large dataset. The T-test offers here a more appropriate and flexible method for comparing means between two groups (e.g., fare amounts and payment type). It provides a reliable way to infer about the population, accommodating the uncertainty that comes with estimating population parameters from sample data."
   ]
  },
  {
   "cell_type": "markdown",
   "metadata": {
    "id": "lOknk_B27Xnt"
   },
   "source": [
    "## Formulating the hypotheses\n",
    "#### NULL HYPOTHESIS: There is no difference in average fare between customers using credit cards and customers using cash.\n",
    "#### ALTERNATE HYPOTHESIS: There is a difference in the average fare between customers using credit cards vs cash."
   ]
  },
  {
   "cell_type": "code",
   "execution_count": 54,
   "metadata": {
    "colab": {
     "base_uri": "https://localhost:8080/"
    },
    "id": "sSH2Y2Z-2JM4",
    "outputId": "268a62e9-6094-4189-cb69-914f3bfd461b"
   },
   "outputs": [
    {
     "name": "stdout",
     "output_type": "stream",
     "text": [
      "T statistics 169.83701521279193 P-value 0.0\n",
      "\n",
      "Reject the null hypothesis\n"
     ]
    }
   ],
   "source": [
    "# sample 1\n",
    "credit_card = taxi_data[taxi_data['payment_type'] =='Card']['fare_amount']\n",
    "\n",
    "# sample 2\n",
    "cash = taxi_data[taxi_data['payment_type']=='Cash']['fare_amount']\n",
    "\n",
    "# Performing t test on both the samples\n",
    "t_stats, p_value = stats.ttest_ind(a = credit_card, b = cash, equal_var = False)\n",
    "print('T statistics',t_stats,'P-value',p_value)\n",
    "\n",
    "# Comparing the p value with the signifacne of 5% (or 0.05)\n",
    "if p_value < 0.05:\n",
    "  print('\\nReject the null hypothesis')\n",
    "else:\n",
    "  print('\\nFail to reject the null hypothesis')"
   ]
  },
  {
   "cell_type": "markdown",
   "metadata": {
    "id": "NZ3eAowV84pN"
   },
   "source": [
    "## Interpretation of T-test results\n",
    "- Since the p-value is significantly smaller than the significance level of 5%, the null hypothesis is therefore, rejected.\n",
    "- Hence, it can be concluded that there is a significant difference statistically in the average fare amount between customers who use credit cards and customers who use cash."
   ]
  },
  {
   "cell_type": "markdown",
   "metadata": {
    "id": "TV1PBjpSEa5-"
   },
   "source": [
    "## Key business insights\n",
    "- Impact of Payment Type on Revenue:\n",
    "1. Insight: The analysis reveals a clear difference in fare amounts between credit card and cash payments. Credit card payments are associated with higher average fares compared to cash.\n",
    "2. Business Implication: Card payments could be encouraged more by offering promotions, attractive deals, discounts, or loyalty points, as it is more likely to generate higher revenue per trip.\n",
    "\n",
    "- Trip duration as a Strong Predictor of Fare:\n",
    "1. Insight: There is a strong positive correlation between trip duration and fare amount. Longer trips result in significantly higher fares.\n",
    "2. Business Implication: Understanding this relationship can help optimize routes and time management for drivers. Drivers can focus on areas or times of the day that yield longer trips, such as airport routes or during peak hours.\n",
    "\n",
    "- Passenger Count Influence on Payment Preferences:\n",
    "1. Insight: Trips with higher passenger counts show a preference for card payments. Conversely, single-passenger trips have a higher tendency for cash payments.\n",
    "2. Business Implication: This insight can be used to personalize payment method suggestions during bookings. For example, when groups book rides, card payments could be automatically suggested to increase revenue.\n",
    "\n",
    "- Outliers and High-Value Trips:\n",
    "1. Insight: Outliers in the dataset indicate some rare but high-value trips with extremely high fare amounts. These are often intercity or long-distance trips.\n",
    "2. Business Implication: Taxi companies can offer premium services for these long-distance routes, or create partnerships with hotels and airports to capture these high-value trips more consistently.\n",
    "\n",
    "- Revenue Optimization Strategies:\n",
    "1. Insight: By focusing on encouraging payment methods (like cards) and analyzing peak hours and high-fare zones, taxi drivers can increase their earnings without increasing the number of trips.\n",
    "2. Business Implication: Business owners can use data-driven strategies to optimize dispatching and driver scheduling to focus on these high-revenue opportunities.\n",
    "\n",
    "- Customer Segmentation:\n",
    "1. Insight: The data shows patterns in fare amounts and payment types that can be used to segment customers. For example, frequent long-distance travelers may prefer card payments, whereas local commuters may prefer cash.\n",
    "2. Business Implication: This segmentation allows for targeted marketing campaigns, offering personalized discounts or services based on payment method or trip type."
   ]
  }
 ],
 "metadata": {
  "colab": {
   "gpuType": "T4",
   "provenance": []
  },
  "kernelspec": {
   "display_name": "venv",
   "language": "python",
   "name": "python3"
  },
  "language_info": {
   "codemirror_mode": {
    "name": "ipython",
    "version": 3
   },
   "file_extension": ".py",
   "mimetype": "text/x-python",
   "name": "python",
   "nbconvert_exporter": "python",
   "pygments_lexer": "ipython3",
   "version": "3.11.5"
  }
 },
 "nbformat": 4,
 "nbformat_minor": 0
}
